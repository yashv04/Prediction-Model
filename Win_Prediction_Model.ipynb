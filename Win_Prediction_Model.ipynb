{
  "nbformat": 4,
  "nbformat_minor": 0,
  "metadata": {
    "colab": {
      "provenance": [],
      "authorship_tag": "ABX9TyNNLOaChpqYJ65Mc3RNfozM",
      "include_colab_link": true
    },
    "kernelspec": {
      "name": "python3",
      "display_name": "Python 3"
    },
    "language_info": {
      "name": "python"
    }
  },
  "cells": [
    {
      "cell_type": "markdown",
      "metadata": {
        "id": "view-in-github",
        "colab_type": "text"
      },
      "source": [
        "<a href=\"https://colab.research.google.com/github/yashv04/Prediction-Model/blob/main/Win_Prediction_Model.ipynb\" target=\"_parent\"><img src=\"https://colab.research.google.com/assets/colab-badge.svg\" alt=\"Open In Colab\"/></a>"
      ]
    },
    {
      "cell_type": "code",
      "execution_count": null,
      "metadata": {
        "id": "Z_Tsoy_kZzHS"
      },
      "outputs": [],
      "source": [
        "import pandas as pd\n",
        "import numpy as np\n",
        "import math\n",
        "import matplotlib.pyplot as plt\n",
        "\n",
        "import warnings\n",
        "warnings.filterwarnings('ignore')\n",
        "\n",
        "#show all columns and rows\n",
        "pd.set_option('display.max_columns', None)\n",
        "pd.set_option('display.max_rows', None)\n",
        "pd.set_option('display.expand_frame_repr', False)\n",
        "pd.set_option('max_colwidth', None)"
      ]
    },
    {
      "cell_type": "code",
      "source": [
        "df = pd.read_csv('IPL_ball_by_ball_updated.csv')"
      ],
      "metadata": {
        "id": "McNpJerx1dZ7"
      },
      "execution_count": null,
      "outputs": []
    },
    {
      "cell_type": "code",
      "source": [
        "df.head(1)"
      ],
      "metadata": {
        "colab": {
          "base_uri": "https://localhost:8080/",
          "height": 135
        },
        "id": "1HLfs9vg1mLl",
        "outputId": "2fea1ac3-94d3-43ad-b44a-9f5b2f4f9a49"
      },
      "execution_count": null,
      "outputs": [
        {
          "output_type": "execute_result",
          "data": {
            "text/plain": [
              "   match_id  season  start_date                  venue  innings  ball                 batting_team           bowling_team     striker non_striker      bowler  runs_off_bat  extras  wides  noballs  byes  legbyes  penalty wicket_type player_dismissed  other_wicket_type  other_player_dismissed\n",
              "0    335982    2008  2008-04-18  M Chinnaswamy Stadium        2   6.8  Royal Challengers Bangalore  Kolkata Knight Riders  MV Boucher    CL White  AB Agarkar             4       0    NaN      NaN   NaN      NaN      NaN         NaN              NaN                NaN                     NaN"
            ],
            "text/html": [
              "\n",
              "  <div id=\"df-25b41ae7-e1a1-451d-8dcf-67fbb0ac403e\" class=\"colab-df-container\">\n",
              "    <div>\n",
              "<style scoped>\n",
              "    .dataframe tbody tr th:only-of-type {\n",
              "        vertical-align: middle;\n",
              "    }\n",
              "\n",
              "    .dataframe tbody tr th {\n",
              "        vertical-align: top;\n",
              "    }\n",
              "\n",
              "    .dataframe thead th {\n",
              "        text-align: right;\n",
              "    }\n",
              "</style>\n",
              "<table border=\"1\" class=\"dataframe\">\n",
              "  <thead>\n",
              "    <tr style=\"text-align: right;\">\n",
              "      <th></th>\n",
              "      <th>match_id</th>\n",
              "      <th>season</th>\n",
              "      <th>start_date</th>\n",
              "      <th>venue</th>\n",
              "      <th>innings</th>\n",
              "      <th>ball</th>\n",
              "      <th>batting_team</th>\n",
              "      <th>bowling_team</th>\n",
              "      <th>striker</th>\n",
              "      <th>non_striker</th>\n",
              "      <th>bowler</th>\n",
              "      <th>runs_off_bat</th>\n",
              "      <th>extras</th>\n",
              "      <th>wides</th>\n",
              "      <th>noballs</th>\n",
              "      <th>byes</th>\n",
              "      <th>legbyes</th>\n",
              "      <th>penalty</th>\n",
              "      <th>wicket_type</th>\n",
              "      <th>player_dismissed</th>\n",
              "      <th>other_wicket_type</th>\n",
              "      <th>other_player_dismissed</th>\n",
              "    </tr>\n",
              "  </thead>\n",
              "  <tbody>\n",
              "    <tr>\n",
              "      <th>0</th>\n",
              "      <td>335982</td>\n",
              "      <td>2008</td>\n",
              "      <td>2008-04-18</td>\n",
              "      <td>M Chinnaswamy Stadium</td>\n",
              "      <td>2</td>\n",
              "      <td>6.8</td>\n",
              "      <td>Royal Challengers Bangalore</td>\n",
              "      <td>Kolkata Knight Riders</td>\n",
              "      <td>MV Boucher</td>\n",
              "      <td>CL White</td>\n",
              "      <td>AB Agarkar</td>\n",
              "      <td>4</td>\n",
              "      <td>0</td>\n",
              "      <td>NaN</td>\n",
              "      <td>NaN</td>\n",
              "      <td>NaN</td>\n",
              "      <td>NaN</td>\n",
              "      <td>NaN</td>\n",
              "      <td>NaN</td>\n",
              "      <td>NaN</td>\n",
              "      <td>NaN</td>\n",
              "      <td>NaN</td>\n",
              "    </tr>\n",
              "  </tbody>\n",
              "</table>\n",
              "</div>\n",
              "    <div class=\"colab-df-buttons\">\n",
              "\n",
              "  <div class=\"colab-df-container\">\n",
              "    <button class=\"colab-df-convert\" onclick=\"convertToInteractive('df-25b41ae7-e1a1-451d-8dcf-67fbb0ac403e')\"\n",
              "            title=\"Convert this dataframe to an interactive table.\"\n",
              "            style=\"display:none;\">\n",
              "\n",
              "  <svg xmlns=\"http://www.w3.org/2000/svg\" height=\"24px\" viewBox=\"0 -960 960 960\">\n",
              "    <path d=\"M120-120v-720h720v720H120Zm60-500h600v-160H180v160Zm220 220h160v-160H400v160Zm0 220h160v-160H400v160ZM180-400h160v-160H180v160Zm440 0h160v-160H620v160ZM180-180h160v-160H180v160Zm440 0h160v-160H620v160Z\"/>\n",
              "  </svg>\n",
              "    </button>\n",
              "\n",
              "  <style>\n",
              "    .colab-df-container {\n",
              "      display:flex;\n",
              "      gap: 12px;\n",
              "    }\n",
              "\n",
              "    .colab-df-convert {\n",
              "      background-color: #E8F0FE;\n",
              "      border: none;\n",
              "      border-radius: 50%;\n",
              "      cursor: pointer;\n",
              "      display: none;\n",
              "      fill: #1967D2;\n",
              "      height: 32px;\n",
              "      padding: 0 0 0 0;\n",
              "      width: 32px;\n",
              "    }\n",
              "\n",
              "    .colab-df-convert:hover {\n",
              "      background-color: #E2EBFA;\n",
              "      box-shadow: 0px 1px 2px rgba(60, 64, 67, 0.3), 0px 1px 3px 1px rgba(60, 64, 67, 0.15);\n",
              "      fill: #174EA6;\n",
              "    }\n",
              "\n",
              "    .colab-df-buttons div {\n",
              "      margin-bottom: 4px;\n",
              "    }\n",
              "\n",
              "    [theme=dark] .colab-df-convert {\n",
              "      background-color: #3B4455;\n",
              "      fill: #D2E3FC;\n",
              "    }\n",
              "\n",
              "    [theme=dark] .colab-df-convert:hover {\n",
              "      background-color: #434B5C;\n",
              "      box-shadow: 0px 1px 3px 1px rgba(0, 0, 0, 0.15);\n",
              "      filter: drop-shadow(0px 1px 2px rgba(0, 0, 0, 0.3));\n",
              "      fill: #FFFFFF;\n",
              "    }\n",
              "  </style>\n",
              "\n",
              "    <script>\n",
              "      const buttonEl =\n",
              "        document.querySelector('#df-25b41ae7-e1a1-451d-8dcf-67fbb0ac403e button.colab-df-convert');\n",
              "      buttonEl.style.display =\n",
              "        google.colab.kernel.accessAllowed ? 'block' : 'none';\n",
              "\n",
              "      async function convertToInteractive(key) {\n",
              "        const element = document.querySelector('#df-25b41ae7-e1a1-451d-8dcf-67fbb0ac403e');\n",
              "        const dataTable =\n",
              "          await google.colab.kernel.invokeFunction('convertToInteractive',\n",
              "                                                    [key], {});\n",
              "        if (!dataTable) return;\n",
              "\n",
              "        const docLinkHtml = 'Like what you see? Visit the ' +\n",
              "          '<a target=\"_blank\" href=https://colab.research.google.com/notebooks/data_table.ipynb>data table notebook</a>'\n",
              "          + ' to learn more about interactive tables.';\n",
              "        element.innerHTML = '';\n",
              "        dataTable['output_type'] = 'display_data';\n",
              "        await google.colab.output.renderOutput(dataTable, element);\n",
              "        const docLink = document.createElement('div');\n",
              "        docLink.innerHTML = docLinkHtml;\n",
              "        element.appendChild(docLink);\n",
              "      }\n",
              "    </script>\n",
              "  </div>\n",
              "\n",
              "\n",
              "    </div>\n",
              "  </div>\n"
            ],
            "application/vnd.google.colaboratory.intrinsic+json": {
              "type": "dataframe",
              "variable_name": "df"
            }
          },
          "metadata": {},
          "execution_count": 92
        }
      ]
    },
    {
      "cell_type": "code",
      "source": [
        "df.batting_team.unique()"
      ],
      "metadata": {
        "colab": {
          "base_uri": "https://localhost:8080/"
        },
        "id": "SoSKWabT1o22",
        "outputId": "034975ef-0bda-4b50-afa3-e0460edacdcf"
      },
      "execution_count": null,
      "outputs": [
        {
          "output_type": "execute_result",
          "data": {
            "text/plain": [
              "array(['Royal Challengers Bangalore', 'Kolkata Knight Riders',\n",
              "       'Rajasthan Royals', 'Delhi Daredevils', 'Kings XI Punjab',\n",
              "       'Chennai Super Kings', 'Deccan Chargers', 'Mumbai Indians',\n",
              "       'Kochi Tuskers Kerala', 'Pune Warriors', 'Sunrisers Hyderabad',\n",
              "       'Rising Pune Supergiants', 'Gujarat Lions',\n",
              "       'Rising Pune Supergiant', 'Delhi Capitals', 'Punjab Kings',\n",
              "       'Gujarat Titans', 'Lucknow Super Giants'], dtype=object)"
            ]
          },
          "metadata": {},
          "execution_count": 93
        }
      ]
    },
    {
      "cell_type": "code",
      "source": [
        "df.innings.unique()"
      ],
      "metadata": {
        "colab": {
          "base_uri": "https://localhost:8080/"
        },
        "id": "Xkov6XIP1pCQ",
        "outputId": "1d45849f-f6fb-4dc7-e6cb-1543a31cf187"
      },
      "execution_count": null,
      "outputs": [
        {
          "output_type": "execute_result",
          "data": {
            "text/plain": [
              "array([2, 1, 4, 3, 6, 5])"
            ]
          },
          "metadata": {},
          "execution_count": 94
        }
      ]
    },
    {
      "cell_type": "code",
      "source": [
        "df = df[(df['innings'] == 1) | (df['innings'] == 2)]"
      ],
      "metadata": {
        "id": "u29kYr_U1pJV"
      },
      "execution_count": null,
      "outputs": []
    },
    {
      "cell_type": "code",
      "source": [
        "df.innings.unique()"
      ],
      "metadata": {
        "colab": {
          "base_uri": "https://localhost:8080/"
        },
        "id": "tjaOoKYE1pN8",
        "outputId": "764e7ed6-e054-4500-8ed0-e5d142172615"
      },
      "execution_count": null,
      "outputs": [
        {
          "output_type": "execute_result",
          "data": {
            "text/plain": [
              "array([2, 1])"
            ]
          },
          "metadata": {},
          "execution_count": 96
        }
      ]
    },
    {
      "cell_type": "code",
      "source": [
        "#additional columns - total runs in each ball, wickets fallen"
      ],
      "metadata": {
        "id": "njinPjEQ1pSd"
      },
      "execution_count": null,
      "outputs": []
    },
    {
      "cell_type": "code",
      "source": [
        "df['total_runs'] = df.apply(lambda x: x['runs_off_bat'] + x['extras'], axis = 1)"
      ],
      "metadata": {
        "id": "fzhl0edu1pdl"
      },
      "execution_count": null,
      "outputs": []
    },
    {
      "cell_type": "code",
      "source": [
        "type(df.player_dismissed[0])"
      ],
      "metadata": {
        "colab": {
          "base_uri": "https://localhost:8080/"
        },
        "id": "VAYAvKqe_oTM",
        "outputId": "8bb99658-ef6d-41d6-93aa-c24354c316f9"
      },
      "execution_count": null,
      "outputs": [
        {
          "output_type": "execute_result",
          "data": {
            "text/plain": [
              "float"
            ]
          },
          "metadata": {},
          "execution_count": 99
        }
      ]
    },
    {
      "cell_type": "code",
      "source": [
        "type(df.player_dismissed[13])"
      ],
      "metadata": {
        "colab": {
          "base_uri": "https://localhost:8080/"
        },
        "id": "7LgC1XTT_odw",
        "outputId": "e76fdbd6-f9b7-466b-8b2b-a3473929c64e"
      },
      "execution_count": null,
      "outputs": [
        {
          "output_type": "execute_result",
          "data": {
            "text/plain": [
              "str"
            ]
          },
          "metadata": {},
          "execution_count": 100
        }
      ]
    },
    {
      "cell_type": "code",
      "source": [
        "df['isOut'] = df['player_dismissed'].notnull().astype(int)"
      ],
      "metadata": {
        "id": "-cxlV43ZA9P-"
      },
      "execution_count": null,
      "outputs": []
    },
    {
      "cell_type": "code",
      "source": [
        "df.head(1)"
      ],
      "metadata": {
        "colab": {
          "base_uri": "https://localhost:8080/",
          "height": 135
        },
        "id": "HZ2zPdne1pmO",
        "outputId": "99935046-10c7-4a71-b260-7962da603912"
      },
      "execution_count": null,
      "outputs": [
        {
          "output_type": "execute_result",
          "data": {
            "text/plain": [
              "   match_id  season  start_date                  venue  innings  ball                 batting_team           bowling_team     striker non_striker      bowler  runs_off_bat  extras  wides  noballs  byes  legbyes  penalty wicket_type player_dismissed  other_wicket_type  other_player_dismissed  total_runs  isOut\n",
              "0    335982    2008  2008-04-18  M Chinnaswamy Stadium        2   6.8  Royal Challengers Bangalore  Kolkata Knight Riders  MV Boucher    CL White  AB Agarkar             4       0    NaN      NaN   NaN      NaN      NaN         NaN              NaN                NaN                     NaN           4      0"
            ],
            "text/html": [
              "\n",
              "  <div id=\"df-1b023327-0e73-4cae-995c-26f2e084b783\" class=\"colab-df-container\">\n",
              "    <div>\n",
              "<style scoped>\n",
              "    .dataframe tbody tr th:only-of-type {\n",
              "        vertical-align: middle;\n",
              "    }\n",
              "\n",
              "    .dataframe tbody tr th {\n",
              "        vertical-align: top;\n",
              "    }\n",
              "\n",
              "    .dataframe thead th {\n",
              "        text-align: right;\n",
              "    }\n",
              "</style>\n",
              "<table border=\"1\" class=\"dataframe\">\n",
              "  <thead>\n",
              "    <tr style=\"text-align: right;\">\n",
              "      <th></th>\n",
              "      <th>match_id</th>\n",
              "      <th>season</th>\n",
              "      <th>start_date</th>\n",
              "      <th>venue</th>\n",
              "      <th>innings</th>\n",
              "      <th>ball</th>\n",
              "      <th>batting_team</th>\n",
              "      <th>bowling_team</th>\n",
              "      <th>striker</th>\n",
              "      <th>non_striker</th>\n",
              "      <th>bowler</th>\n",
              "      <th>runs_off_bat</th>\n",
              "      <th>extras</th>\n",
              "      <th>wides</th>\n",
              "      <th>noballs</th>\n",
              "      <th>byes</th>\n",
              "      <th>legbyes</th>\n",
              "      <th>penalty</th>\n",
              "      <th>wicket_type</th>\n",
              "      <th>player_dismissed</th>\n",
              "      <th>other_wicket_type</th>\n",
              "      <th>other_player_dismissed</th>\n",
              "      <th>total_runs</th>\n",
              "      <th>isOut</th>\n",
              "    </tr>\n",
              "  </thead>\n",
              "  <tbody>\n",
              "    <tr>\n",
              "      <th>0</th>\n",
              "      <td>335982</td>\n",
              "      <td>2008</td>\n",
              "      <td>2008-04-18</td>\n",
              "      <td>M Chinnaswamy Stadium</td>\n",
              "      <td>2</td>\n",
              "      <td>6.8</td>\n",
              "      <td>Royal Challengers Bangalore</td>\n",
              "      <td>Kolkata Knight Riders</td>\n",
              "      <td>MV Boucher</td>\n",
              "      <td>CL White</td>\n",
              "      <td>AB Agarkar</td>\n",
              "      <td>4</td>\n",
              "      <td>0</td>\n",
              "      <td>NaN</td>\n",
              "      <td>NaN</td>\n",
              "      <td>NaN</td>\n",
              "      <td>NaN</td>\n",
              "      <td>NaN</td>\n",
              "      <td>NaN</td>\n",
              "      <td>NaN</td>\n",
              "      <td>NaN</td>\n",
              "      <td>NaN</td>\n",
              "      <td>4</td>\n",
              "      <td>0</td>\n",
              "    </tr>\n",
              "  </tbody>\n",
              "</table>\n",
              "</div>\n",
              "    <div class=\"colab-df-buttons\">\n",
              "\n",
              "  <div class=\"colab-df-container\">\n",
              "    <button class=\"colab-df-convert\" onclick=\"convertToInteractive('df-1b023327-0e73-4cae-995c-26f2e084b783')\"\n",
              "            title=\"Convert this dataframe to an interactive table.\"\n",
              "            style=\"display:none;\">\n",
              "\n",
              "  <svg xmlns=\"http://www.w3.org/2000/svg\" height=\"24px\" viewBox=\"0 -960 960 960\">\n",
              "    <path d=\"M120-120v-720h720v720H120Zm60-500h600v-160H180v160Zm220 220h160v-160H400v160Zm0 220h160v-160H400v160ZM180-400h160v-160H180v160Zm440 0h160v-160H620v160ZM180-180h160v-160H180v160Zm440 0h160v-160H620v160Z\"/>\n",
              "  </svg>\n",
              "    </button>\n",
              "\n",
              "  <style>\n",
              "    .colab-df-container {\n",
              "      display:flex;\n",
              "      gap: 12px;\n",
              "    }\n",
              "\n",
              "    .colab-df-convert {\n",
              "      background-color: #E8F0FE;\n",
              "      border: none;\n",
              "      border-radius: 50%;\n",
              "      cursor: pointer;\n",
              "      display: none;\n",
              "      fill: #1967D2;\n",
              "      height: 32px;\n",
              "      padding: 0 0 0 0;\n",
              "      width: 32px;\n",
              "    }\n",
              "\n",
              "    .colab-df-convert:hover {\n",
              "      background-color: #E2EBFA;\n",
              "      box-shadow: 0px 1px 2px rgba(60, 64, 67, 0.3), 0px 1px 3px 1px rgba(60, 64, 67, 0.15);\n",
              "      fill: #174EA6;\n",
              "    }\n",
              "\n",
              "    .colab-df-buttons div {\n",
              "      margin-bottom: 4px;\n",
              "    }\n",
              "\n",
              "    [theme=dark] .colab-df-convert {\n",
              "      background-color: #3B4455;\n",
              "      fill: #D2E3FC;\n",
              "    }\n",
              "\n",
              "    [theme=dark] .colab-df-convert:hover {\n",
              "      background-color: #434B5C;\n",
              "      box-shadow: 0px 1px 3px 1px rgba(0, 0, 0, 0.15);\n",
              "      filter: drop-shadow(0px 1px 2px rgba(0, 0, 0, 0.3));\n",
              "      fill: #FFFFFF;\n",
              "    }\n",
              "  </style>\n",
              "\n",
              "    <script>\n",
              "      const buttonEl =\n",
              "        document.querySelector('#df-1b023327-0e73-4cae-995c-26f2e084b783 button.colab-df-convert');\n",
              "      buttonEl.style.display =\n",
              "        google.colab.kernel.accessAllowed ? 'block' : 'none';\n",
              "\n",
              "      async function convertToInteractive(key) {\n",
              "        const element = document.querySelector('#df-1b023327-0e73-4cae-995c-26f2e084b783');\n",
              "        const dataTable =\n",
              "          await google.colab.kernel.invokeFunction('convertToInteractive',\n",
              "                                                    [key], {});\n",
              "        if (!dataTable) return;\n",
              "\n",
              "        const docLinkHtml = 'Like what you see? Visit the ' +\n",
              "          '<a target=\"_blank\" href=https://colab.research.google.com/notebooks/data_table.ipynb>data table notebook</a>'\n",
              "          + ' to learn more about interactive tables.';\n",
              "        element.innerHTML = '';\n",
              "        dataTable['output_type'] = 'display_data';\n",
              "        await google.colab.output.renderOutput(dataTable, element);\n",
              "        const docLink = document.createElement('div');\n",
              "        docLink.innerHTML = docLinkHtml;\n",
              "        element.appendChild(docLink);\n",
              "      }\n",
              "    </script>\n",
              "  </div>\n",
              "\n",
              "\n",
              "    </div>\n",
              "  </div>\n"
            ],
            "application/vnd.google.colaboratory.intrinsic+json": {
              "type": "dataframe",
              "variable_name": "df"
            }
          },
          "metadata": {},
          "execution_count": 102
        }
      ]
    },
    {
      "cell_type": "code",
      "source": [
        "#adding teams t1 and t2\n",
        "t1 = 'Mumbai Indians'\n",
        "t2 = 'Royal Challengers Bangalore'"
      ],
      "metadata": {
        "id": "uqbydL6M1ptg"
      },
      "execution_count": null,
      "outputs": []
    },
    {
      "cell_type": "code",
      "source": [
        "outcomes = [0, 1, 2, 3, 4, 6, 'w']"
      ],
      "metadata": {
        "id": "iPT8QW4lDvvh"
      },
      "execution_count": null,
      "outputs": []
    },
    {
      "cell_type": "code",
      "source": [
        "df[df.batting_team == t1].total_runs.value_counts()"
      ],
      "metadata": {
        "colab": {
          "base_uri": "https://localhost:8080/",
          "height": 366
        },
        "id": "afGtxJhp86aa",
        "outputId": "3cc6a820-d70d-48c1-a30a-5e97cc54a294"
      },
      "execution_count": null,
      "outputs": [
        {
          "output_type": "execute_result",
          "data": {
            "text/plain": [
              "total_runs\n",
              "1    11336\n",
              "0     9974\n",
              "4     3198\n",
              "2     1721\n",
              "6     1403\n",
              "3      104\n",
              "5       54\n",
              "7        7\n",
              "Name: count, dtype: int64"
            ],
            "text/html": [
              "<div>\n",
              "<style scoped>\n",
              "    .dataframe tbody tr th:only-of-type {\n",
              "        vertical-align: middle;\n",
              "    }\n",
              "\n",
              "    .dataframe tbody tr th {\n",
              "        vertical-align: top;\n",
              "    }\n",
              "\n",
              "    .dataframe thead th {\n",
              "        text-align: right;\n",
              "    }\n",
              "</style>\n",
              "<table border=\"1\" class=\"dataframe\">\n",
              "  <thead>\n",
              "    <tr style=\"text-align: right;\">\n",
              "      <th></th>\n",
              "      <th>count</th>\n",
              "    </tr>\n",
              "    <tr>\n",
              "      <th>total_runs</th>\n",
              "      <th></th>\n",
              "    </tr>\n",
              "  </thead>\n",
              "  <tbody>\n",
              "    <tr>\n",
              "      <th>1</th>\n",
              "      <td>11336</td>\n",
              "    </tr>\n",
              "    <tr>\n",
              "      <th>0</th>\n",
              "      <td>9974</td>\n",
              "    </tr>\n",
              "    <tr>\n",
              "      <th>4</th>\n",
              "      <td>3198</td>\n",
              "    </tr>\n",
              "    <tr>\n",
              "      <th>2</th>\n",
              "      <td>1721</td>\n",
              "    </tr>\n",
              "    <tr>\n",
              "      <th>6</th>\n",
              "      <td>1403</td>\n",
              "    </tr>\n",
              "    <tr>\n",
              "      <th>3</th>\n",
              "      <td>104</td>\n",
              "    </tr>\n",
              "    <tr>\n",
              "      <th>5</th>\n",
              "      <td>54</td>\n",
              "    </tr>\n",
              "    <tr>\n",
              "      <th>7</th>\n",
              "      <td>7</td>\n",
              "    </tr>\n",
              "  </tbody>\n",
              "</table>\n",
              "</div><br><label><b>dtype:</b> int64</label>"
            ]
          },
          "metadata": {},
          "execution_count": 105
        }
      ]
    },
    {
      "cell_type": "code",
      "source": [
        "df[df.batting_team == t2].total_runs.value_counts()"
      ],
      "metadata": {
        "colab": {
          "base_uri": "https://localhost:8080/",
          "height": 366
        },
        "id": "58Rrf3LGBgKN",
        "outputId": "04558c3d-2e15-48c1-c61e-fdfe9cf608cd"
      },
      "execution_count": null,
      "outputs": [
        {
          "output_type": "execute_result",
          "data": {
            "text/plain": [
              "total_runs\n",
              "1    10900\n",
              "0     9331\n",
              "4     2983\n",
              "2     1764\n",
              "6     1365\n",
              "3       91\n",
              "5       47\n",
              "7       13\n",
              "Name: count, dtype: int64"
            ],
            "text/html": [
              "<div>\n",
              "<style scoped>\n",
              "    .dataframe tbody tr th:only-of-type {\n",
              "        vertical-align: middle;\n",
              "    }\n",
              "\n",
              "    .dataframe tbody tr th {\n",
              "        vertical-align: top;\n",
              "    }\n",
              "\n",
              "    .dataframe thead th {\n",
              "        text-align: right;\n",
              "    }\n",
              "</style>\n",
              "<table border=\"1\" class=\"dataframe\">\n",
              "  <thead>\n",
              "    <tr style=\"text-align: right;\">\n",
              "      <th></th>\n",
              "      <th>count</th>\n",
              "    </tr>\n",
              "    <tr>\n",
              "      <th>total_runs</th>\n",
              "      <th></th>\n",
              "    </tr>\n",
              "  </thead>\n",
              "  <tbody>\n",
              "    <tr>\n",
              "      <th>1</th>\n",
              "      <td>10900</td>\n",
              "    </tr>\n",
              "    <tr>\n",
              "      <th>0</th>\n",
              "      <td>9331</td>\n",
              "    </tr>\n",
              "    <tr>\n",
              "      <th>4</th>\n",
              "      <td>2983</td>\n",
              "    </tr>\n",
              "    <tr>\n",
              "      <th>2</th>\n",
              "      <td>1764</td>\n",
              "    </tr>\n",
              "    <tr>\n",
              "      <th>6</th>\n",
              "      <td>1365</td>\n",
              "    </tr>\n",
              "    <tr>\n",
              "      <th>3</th>\n",
              "      <td>91</td>\n",
              "    </tr>\n",
              "    <tr>\n",
              "      <th>5</th>\n",
              "      <td>47</td>\n",
              "    </tr>\n",
              "    <tr>\n",
              "      <th>7</th>\n",
              "      <td>13</td>\n",
              "    </tr>\n",
              "  </tbody>\n",
              "</table>\n",
              "</div><br><label><b>dtype:</b> int64</label>"
            ]
          },
          "metadata": {},
          "execution_count": 106
        }
      ]
    },
    {
      "cell_type": "code",
      "source": [
        "t1_outcomes_count = df[df.batting_team == t1].total_runs.value_counts()\n",
        "t2_outcomes_count = df[df.batting_team == t2].total_runs.value_counts()"
      ],
      "metadata": {
        "id": "Z8N-YUlMBpJ4"
      },
      "execution_count": null,
      "outputs": []
    },
    {
      "cell_type": "code",
      "source": [
        "df[df.batting_team == t1].isOut.sum()"
      ],
      "metadata": {
        "colab": {
          "base_uri": "https://localhost:8080/"
        },
        "id": "yM4Hc-2I9xWj",
        "outputId": "6a10c0e7-639d-40f5-9995-a4fd6b018724"
      },
      "execution_count": null,
      "outputs": [
        {
          "output_type": "execute_result",
          "data": {
            "text/plain": [
              "1378"
            ]
          },
          "metadata": {},
          "execution_count": 108
        }
      ]
    },
    {
      "cell_type": "code",
      "source": [
        "df[df.batting_team == t2].isOut.sum()"
      ],
      "metadata": {
        "colab": {
          "base_uri": "https://localhost:8080/"
        },
        "id": "F_yxiqV9B0Ar",
        "outputId": "36b0ff4d-a106-4bd8-eacc-fbe493ec729f"
      },
      "execution_count": null,
      "outputs": [
        {
          "output_type": "execute_result",
          "data": {
            "text/plain": [
              "1304"
            ]
          },
          "metadata": {},
          "execution_count": 109
        }
      ]
    },
    {
      "cell_type": "code",
      "source": [
        "t1_outs = df[df.batting_team == t1].isOut.sum()\n",
        "t2_outs = df[df.batting_team == t2].isOut.sum()"
      ],
      "metadata": {
        "id": "v8OHEF3jB0h7"
      },
      "execution_count": null,
      "outputs": []
    },
    {
      "cell_type": "code",
      "source": [
        "t1_outcomes = []\n",
        "t2_outcomes = []\n",
        "\n",
        "for outcome in outcomes:\n",
        "  if outcome != 'w':\n",
        "    t1_outcomes.append(t1_outcomes_count[outcome])\n",
        "    t2_outcomes.append(t2_outcomes_count[outcome])\n",
        "  else:\n",
        "    t1_outcomes.append(t1_outs)\n",
        "    t2_outcomes.append(t2_outs)"
      ],
      "metadata": {
        "id": "oGIQJ0DkB0-J"
      },
      "execution_count": null,
      "outputs": []
    },
    {
      "cell_type": "code",
      "source": [
        "t1_outcomes, t2_outcomes"
      ],
      "metadata": {
        "colab": {
          "base_uri": "https://localhost:8080/"
        },
        "id": "_1L3EYDoDivZ",
        "outputId": "4f16673b-b0f3-4fc5-a77e-62bbb4a9195f"
      },
      "execution_count": null,
      "outputs": [
        {
          "output_type": "execute_result",
          "data": {
            "text/plain": [
              "([9974, 11336, 1721, 104, 3198, 1403, 1378],\n",
              " [9331, 10900, 1764, 91, 2983, 1365, 1304])"
            ]
          },
          "metadata": {},
          "execution_count": 112
        }
      ]
    },
    {
      "cell_type": "code",
      "source": [
        "t1_pb_outcomes = [i/sum(t1_outcomes) for i in t1_outcomes]\n",
        "t2_pb_outcomes = [i/sum(t2_outcomes) for i in t2_outcomes]"
      ],
      "metadata": {
        "id": "xhnD8eN6ECrE"
      },
      "execution_count": null,
      "outputs": []
    },
    {
      "cell_type": "code",
      "source": [
        "t1_pb_outcomes[0], t2_pb_outcomes[0]\n",
        "t1_pb_outcomes[1], t2_pb_outcomes[1]\n",
        "t1_pb_outcomes[2], t2_pb_outcomes[2]\n",
        "t1_pb_outcomes[3], t2_pb_outcomes[3]\n",
        "t1_pb_outcomes[4], t2_pb_outcomes[4]\n",
        "t1_pb_outcomes[6], t2_pb_outcomes[6]\n",
        "t1_pb_outcomes[outcomes.index('w')], t2_pb_outcomes[outcomes.index('w')]"
      ],
      "metadata": {
        "colab": {
          "base_uri": "https://localhost:8080/"
        },
        "id": "Bwwahdv1ECzK",
        "outputId": "d883b4fa-6b59-46f5-f935-a142210decb3"
      },
      "execution_count": null,
      "outputs": [
        {
          "output_type": "execute_result",
          "data": {
            "text/plain": [
              "(0.047331180875180325, 0.047011320210541496)"
            ]
          },
          "metadata": {},
          "execution_count": 114
        }
      ]
    },
    {
      "cell_type": "code",
      "source": [
        "t1_pb_outcomes, t2_pb_outcomes"
      ],
      "metadata": {
        "colab": {
          "base_uri": "https://localhost:8080/"
        },
        "id": "7aWh2OptEC6h",
        "outputId": "b95419d6-2c40-48ca-a3d5-4b7a0ad730c8"
      },
      "execution_count": null,
      "outputs": [
        {
          "output_type": "execute_result",
          "data": {
            "text/plain": [
              "([0.3425843236930686,\n",
              "  0.3893659407845023,\n",
              "  0.05911245448924916,\n",
              "  0.003572164594353232,\n",
              "  0.10984406127636188,\n",
              "  0.04818987428728447,\n",
              "  0.047331180875180325],\n",
              " [0.33639772153724135,\n",
              "  0.3929627226187901,\n",
              "  0.063595068137573,\n",
              "  0.0032806979594779723,\n",
              "  0.1075420001442065,\n",
              "  0.04921046939216959,\n",
              "  0.047011320210541496])"
            ]
          },
          "metadata": {},
          "execution_count": 115
        }
      ]
    },
    {
      "cell_type": "code",
      "source": [
        "np.cumsum(t1_pb_outcomes ), np.cumsum(t2_pb_outcomes )"
      ],
      "metadata": {
        "colab": {
          "base_uri": "https://localhost:8080/"
        },
        "id": "-jU4-bpnEDBC",
        "outputId": "79380146-5357-4a7e-e45d-be5135045a48"
      },
      "execution_count": null,
      "outputs": [
        {
          "output_type": "execute_result",
          "data": {
            "text/plain": [
              "(array([0.34258432, 0.73195026, 0.79106272, 0.79463488, 0.90447894,\n",
              "        0.95266882, 1.        ]),\n",
              " array([0.33639772, 0.72936044, 0.79295551, 0.79623621, 0.90377821,\n",
              "        0.95298868, 1.        ]))"
            ]
          },
          "metadata": {},
          "execution_count": 116
        }
      ]
    },
    {
      "cell_type": "code",
      "source": [
        "t1_pb_ls = np.cumsum(t1_pb_outcomes )\n",
        "t2_pb_ls = np.cumsum(t2_pb_outcomes )"
      ],
      "metadata": {
        "id": "U3dmellnEDIO"
      },
      "execution_count": null,
      "outputs": []
    },
    {
      "cell_type": "code",
      "source": [
        "np.random.random()"
      ],
      "metadata": {
        "colab": {
          "base_uri": "https://localhost:8080/"
        },
        "id": "5CdPdrpGEDPS",
        "outputId": "21276a62-d8f9-4ca6-a515-3eee5de2d994"
      },
      "execution_count": null,
      "outputs": [
        {
          "output_type": "execute_result",
          "data": {
            "text/plain": [
              "0.9132631493681326"
            ]
          },
          "metadata": {},
          "execution_count": 118
        }
      ]
    },
    {
      "cell_type": "code",
      "source": [
        "#predicting runs for 120 balls\n",
        "\n",
        "pred_runs= 0\n",
        "pred_wks = 0\n",
        "balls = 120\n",
        "\n",
        "i1p_0 = t1_pb_ls[0]\n",
        "i1p_1 = t1_pb_ls[1]\n",
        "i1p_2 = t1_pb_ls[2]\n",
        "i1p_3 = t1_pb_ls[3]\n",
        "i1p_4 = t1_pb_ls[4]\n",
        "i1p_6 = t1_pb_ls[5]\n",
        "i1p_w = t1_pb_ls[6]\n",
        "\n",
        "i2p_0 = t2_pb_ls[0]\n",
        "i2p_1 = t2_pb_ls[1]\n",
        "i2p_2 = t2_pb_ls[2]\n",
        "i2p_3 = t2_pb_ls[3]\n",
        "i2p_4 = t2_pb_ls[4]\n",
        "i2p_6 = t2_pb_ls[5]\n",
        "i2p_w = t2_pb_ls[6]\n",
        "\n",
        "\n",
        "for i in range(balls):\n",
        "  r_value = np.random.random()\n",
        "  if r_value <= i1p_0:\n",
        "    pred_runs += 0\n",
        "  elif r_value <= i1p_1:\n",
        "    pred_runs += 1\n",
        "  elif r_value <= i1p_2:\n",
        "    pred_runs += 2\n",
        "  elif r_value <= i1p_3:\n",
        "    pred_runs += 3\n",
        "  elif r_value <= i1p_4:\n",
        "    pred_runs += 4\n",
        "  elif r_value <= i1p_6:\n",
        "    pred_runs += 6\n",
        "  else:\n",
        "    pred_runs += 0\n",
        "    pred_wks += 1\n",
        "\n",
        "  if pred_wks == 10:\n",
        "    break\n"
      ],
      "metadata": {
        "id": "nRpVpWGxEDXk"
      },
      "execution_count": null,
      "outputs": []
    },
    {
      "cell_type": "code",
      "source": [
        "pred_runs, pred_wks"
      ],
      "metadata": {
        "colab": {
          "base_uri": "https://localhost:8080/"
        },
        "id": "cJkfXUtTEDd3",
        "outputId": "16171b7f-36d6-498e-fbc0-3814533c8362"
      },
      "execution_count": null,
      "outputs": [
        {
          "output_type": "execute_result",
          "data": {
            "text/plain": [
              "(184, 6)"
            ]
          },
          "metadata": {},
          "execution_count": 120
        }
      ]
    },
    {
      "cell_type": "code",
      "source": [
        "pred_runs= 0\n",
        "pred_wks = 0\n",
        "balls = 120\n",
        "\n",
        "for i in range(balls):\n",
        "  r_value = np.random.random()\n",
        "  if r_value <= i1p_0:\n",
        "    pred_runs += 0\n",
        "  elif r_value <= i2p_1:\n",
        "    pred_runs += 1\n",
        "  elif r_value <= i2p_2:\n",
        "    pred_runs += 2\n",
        "  elif r_value <= i2p_3:\n",
        "    pred_runs += 3\n",
        "  elif r_value <= i2p_4:\n",
        "    pred_runs += 4\n",
        "  elif r_value <= i2p_6:\n",
        "    pred_runs += 6\n",
        "  else:\n",
        "    pred_runs += 0\n",
        "    pred_wks += 1\n",
        "\n",
        "  if pred_wks == 10:\n",
        "    break"
      ],
      "metadata": {
        "id": "V5VJ3EOyEDkF"
      },
      "execution_count": null,
      "outputs": []
    },
    {
      "cell_type": "code",
      "source": [
        "pred_runs, pred_wks"
      ],
      "metadata": {
        "colab": {
          "base_uri": "https://localhost:8080/"
        },
        "id": "NZBEiFU6NU2a",
        "outputId": "976ba233-31ec-4383-985b-95fb08cae619"
      },
      "execution_count": null,
      "outputs": [
        {
          "output_type": "execute_result",
          "data": {
            "text/plain": [
              "(143, 4)"
            ]
          },
          "metadata": {},
          "execution_count": 122
        }
      ]
    },
    {
      "cell_type": "code",
      "source": [
        "df.head()"
      ],
      "metadata": {
        "colab": {
          "base_uri": "https://localhost:8080/",
          "height": 399
        },
        "id": "8mHtkxbB1qGj",
        "outputId": "aa483feb-4034-4374-c704-2d1ac0fef272"
      },
      "execution_count": null,
      "outputs": [
        {
          "output_type": "execute_result",
          "data": {
            "text/plain": [
              "   match_id  season  start_date                  venue  innings  ball                 batting_team           bowling_team     striker non_striker      bowler  runs_off_bat  extras  wides  noballs  byes  legbyes  penalty wicket_type player_dismissed  other_wicket_type  other_player_dismissed  total_runs  isOut\n",
              "0    335982    2008  2008-04-18  M Chinnaswamy Stadium        2   6.8  Royal Challengers Bangalore  Kolkata Knight Riders  MV Boucher    CL White  AB Agarkar             4       0    NaN      NaN   NaN      NaN      NaN         NaN              NaN                NaN                     NaN           4      0\n",
              "1    335982    2008  2008-04-18  M Chinnaswamy Stadium        2   2.7  Royal Challengers Bangalore  Kolkata Knight Riders    W Jaffer   JH Kallis    AB Dinda             1       0    NaN      NaN   NaN      NaN      NaN         NaN              NaN                NaN                     NaN           1      0\n",
              "2    335982    2008  2008-04-18  M Chinnaswamy Stadium        2   3.1  Royal Challengers Bangalore  Kolkata Knight Riders    W Jaffer   JH Kallis    I Sharma             2       0    NaN      NaN   NaN      NaN      NaN         NaN              NaN                NaN                     NaN           2      0\n",
              "3    335982    2008  2008-04-18  M Chinnaswamy Stadium        2   3.2  Royal Challengers Bangalore  Kolkata Knight Riders    W Jaffer   JH Kallis    I Sharma             1       0    NaN      NaN   NaN      NaN      NaN         NaN              NaN                NaN                     NaN           1      0\n",
              "4    335982    2008  2008-04-18  M Chinnaswamy Stadium        2   3.3  Royal Challengers Bangalore  Kolkata Knight Riders   JH Kallis    W Jaffer    I Sharma             0       0    NaN      NaN   NaN      NaN      NaN         NaN              NaN                NaN                     NaN           0      0"
            ],
            "text/html": [
              "\n",
              "  <div id=\"df-d0dc01cf-e88a-4faf-848c-2681c60fd887\" class=\"colab-df-container\">\n",
              "    <div>\n",
              "<style scoped>\n",
              "    .dataframe tbody tr th:only-of-type {\n",
              "        vertical-align: middle;\n",
              "    }\n",
              "\n",
              "    .dataframe tbody tr th {\n",
              "        vertical-align: top;\n",
              "    }\n",
              "\n",
              "    .dataframe thead th {\n",
              "        text-align: right;\n",
              "    }\n",
              "</style>\n",
              "<table border=\"1\" class=\"dataframe\">\n",
              "  <thead>\n",
              "    <tr style=\"text-align: right;\">\n",
              "      <th></th>\n",
              "      <th>match_id</th>\n",
              "      <th>season</th>\n",
              "      <th>start_date</th>\n",
              "      <th>venue</th>\n",
              "      <th>innings</th>\n",
              "      <th>ball</th>\n",
              "      <th>batting_team</th>\n",
              "      <th>bowling_team</th>\n",
              "      <th>striker</th>\n",
              "      <th>non_striker</th>\n",
              "      <th>bowler</th>\n",
              "      <th>runs_off_bat</th>\n",
              "      <th>extras</th>\n",
              "      <th>wides</th>\n",
              "      <th>noballs</th>\n",
              "      <th>byes</th>\n",
              "      <th>legbyes</th>\n",
              "      <th>penalty</th>\n",
              "      <th>wicket_type</th>\n",
              "      <th>player_dismissed</th>\n",
              "      <th>other_wicket_type</th>\n",
              "      <th>other_player_dismissed</th>\n",
              "      <th>total_runs</th>\n",
              "      <th>isOut</th>\n",
              "    </tr>\n",
              "  </thead>\n",
              "  <tbody>\n",
              "    <tr>\n",
              "      <th>0</th>\n",
              "      <td>335982</td>\n",
              "      <td>2008</td>\n",
              "      <td>2008-04-18</td>\n",
              "      <td>M Chinnaswamy Stadium</td>\n",
              "      <td>2</td>\n",
              "      <td>6.8</td>\n",
              "      <td>Royal Challengers Bangalore</td>\n",
              "      <td>Kolkata Knight Riders</td>\n",
              "      <td>MV Boucher</td>\n",
              "      <td>CL White</td>\n",
              "      <td>AB Agarkar</td>\n",
              "      <td>4</td>\n",
              "      <td>0</td>\n",
              "      <td>NaN</td>\n",
              "      <td>NaN</td>\n",
              "      <td>NaN</td>\n",
              "      <td>NaN</td>\n",
              "      <td>NaN</td>\n",
              "      <td>NaN</td>\n",
              "      <td>NaN</td>\n",
              "      <td>NaN</td>\n",
              "      <td>NaN</td>\n",
              "      <td>4</td>\n",
              "      <td>0</td>\n",
              "    </tr>\n",
              "    <tr>\n",
              "      <th>1</th>\n",
              "      <td>335982</td>\n",
              "      <td>2008</td>\n",
              "      <td>2008-04-18</td>\n",
              "      <td>M Chinnaswamy Stadium</td>\n",
              "      <td>2</td>\n",
              "      <td>2.7</td>\n",
              "      <td>Royal Challengers Bangalore</td>\n",
              "      <td>Kolkata Knight Riders</td>\n",
              "      <td>W Jaffer</td>\n",
              "      <td>JH Kallis</td>\n",
              "      <td>AB Dinda</td>\n",
              "      <td>1</td>\n",
              "      <td>0</td>\n",
              "      <td>NaN</td>\n",
              "      <td>NaN</td>\n",
              "      <td>NaN</td>\n",
              "      <td>NaN</td>\n",
              "      <td>NaN</td>\n",
              "      <td>NaN</td>\n",
              "      <td>NaN</td>\n",
              "      <td>NaN</td>\n",
              "      <td>NaN</td>\n",
              "      <td>1</td>\n",
              "      <td>0</td>\n",
              "    </tr>\n",
              "    <tr>\n",
              "      <th>2</th>\n",
              "      <td>335982</td>\n",
              "      <td>2008</td>\n",
              "      <td>2008-04-18</td>\n",
              "      <td>M Chinnaswamy Stadium</td>\n",
              "      <td>2</td>\n",
              "      <td>3.1</td>\n",
              "      <td>Royal Challengers Bangalore</td>\n",
              "      <td>Kolkata Knight Riders</td>\n",
              "      <td>W Jaffer</td>\n",
              "      <td>JH Kallis</td>\n",
              "      <td>I Sharma</td>\n",
              "      <td>2</td>\n",
              "      <td>0</td>\n",
              "      <td>NaN</td>\n",
              "      <td>NaN</td>\n",
              "      <td>NaN</td>\n",
              "      <td>NaN</td>\n",
              "      <td>NaN</td>\n",
              "      <td>NaN</td>\n",
              "      <td>NaN</td>\n",
              "      <td>NaN</td>\n",
              "      <td>NaN</td>\n",
              "      <td>2</td>\n",
              "      <td>0</td>\n",
              "    </tr>\n",
              "    <tr>\n",
              "      <th>3</th>\n",
              "      <td>335982</td>\n",
              "      <td>2008</td>\n",
              "      <td>2008-04-18</td>\n",
              "      <td>M Chinnaswamy Stadium</td>\n",
              "      <td>2</td>\n",
              "      <td>3.2</td>\n",
              "      <td>Royal Challengers Bangalore</td>\n",
              "      <td>Kolkata Knight Riders</td>\n",
              "      <td>W Jaffer</td>\n",
              "      <td>JH Kallis</td>\n",
              "      <td>I Sharma</td>\n",
              "      <td>1</td>\n",
              "      <td>0</td>\n",
              "      <td>NaN</td>\n",
              "      <td>NaN</td>\n",
              "      <td>NaN</td>\n",
              "      <td>NaN</td>\n",
              "      <td>NaN</td>\n",
              "      <td>NaN</td>\n",
              "      <td>NaN</td>\n",
              "      <td>NaN</td>\n",
              "      <td>NaN</td>\n",
              "      <td>1</td>\n",
              "      <td>0</td>\n",
              "    </tr>\n",
              "    <tr>\n",
              "      <th>4</th>\n",
              "      <td>335982</td>\n",
              "      <td>2008</td>\n",
              "      <td>2008-04-18</td>\n",
              "      <td>M Chinnaswamy Stadium</td>\n",
              "      <td>2</td>\n",
              "      <td>3.3</td>\n",
              "      <td>Royal Challengers Bangalore</td>\n",
              "      <td>Kolkata Knight Riders</td>\n",
              "      <td>JH Kallis</td>\n",
              "      <td>W Jaffer</td>\n",
              "      <td>I Sharma</td>\n",
              "      <td>0</td>\n",
              "      <td>0</td>\n",
              "      <td>NaN</td>\n",
              "      <td>NaN</td>\n",
              "      <td>NaN</td>\n",
              "      <td>NaN</td>\n",
              "      <td>NaN</td>\n",
              "      <td>NaN</td>\n",
              "      <td>NaN</td>\n",
              "      <td>NaN</td>\n",
              "      <td>NaN</td>\n",
              "      <td>0</td>\n",
              "      <td>0</td>\n",
              "    </tr>\n",
              "  </tbody>\n",
              "</table>\n",
              "</div>\n",
              "    <div class=\"colab-df-buttons\">\n",
              "\n",
              "  <div class=\"colab-df-container\">\n",
              "    <button class=\"colab-df-convert\" onclick=\"convertToInteractive('df-d0dc01cf-e88a-4faf-848c-2681c60fd887')\"\n",
              "            title=\"Convert this dataframe to an interactive table.\"\n",
              "            style=\"display:none;\">\n",
              "\n",
              "  <svg xmlns=\"http://www.w3.org/2000/svg\" height=\"24px\" viewBox=\"0 -960 960 960\">\n",
              "    <path d=\"M120-120v-720h720v720H120Zm60-500h600v-160H180v160Zm220 220h160v-160H400v160Zm0 220h160v-160H400v160ZM180-400h160v-160H180v160Zm440 0h160v-160H620v160ZM180-180h160v-160H180v160Zm440 0h160v-160H620v160Z\"/>\n",
              "  </svg>\n",
              "    </button>\n",
              "\n",
              "  <style>\n",
              "    .colab-df-container {\n",
              "      display:flex;\n",
              "      gap: 12px;\n",
              "    }\n",
              "\n",
              "    .colab-df-convert {\n",
              "      background-color: #E8F0FE;\n",
              "      border: none;\n",
              "      border-radius: 50%;\n",
              "      cursor: pointer;\n",
              "      display: none;\n",
              "      fill: #1967D2;\n",
              "      height: 32px;\n",
              "      padding: 0 0 0 0;\n",
              "      width: 32px;\n",
              "    }\n",
              "\n",
              "    .colab-df-convert:hover {\n",
              "      background-color: #E2EBFA;\n",
              "      box-shadow: 0px 1px 2px rgba(60, 64, 67, 0.3), 0px 1px 3px 1px rgba(60, 64, 67, 0.15);\n",
              "      fill: #174EA6;\n",
              "    }\n",
              "\n",
              "    .colab-df-buttons div {\n",
              "      margin-bottom: 4px;\n",
              "    }\n",
              "\n",
              "    [theme=dark] .colab-df-convert {\n",
              "      background-color: #3B4455;\n",
              "      fill: #D2E3FC;\n",
              "    }\n",
              "\n",
              "    [theme=dark] .colab-df-convert:hover {\n",
              "      background-color: #434B5C;\n",
              "      box-shadow: 0px 1px 3px 1px rgba(0, 0, 0, 0.15);\n",
              "      filter: drop-shadow(0px 1px 2px rgba(0, 0, 0, 0.3));\n",
              "      fill: #FFFFFF;\n",
              "    }\n",
              "  </style>\n",
              "\n",
              "    <script>\n",
              "      const buttonEl =\n",
              "        document.querySelector('#df-d0dc01cf-e88a-4faf-848c-2681c60fd887 button.colab-df-convert');\n",
              "      buttonEl.style.display =\n",
              "        google.colab.kernel.accessAllowed ? 'block' : 'none';\n",
              "\n",
              "      async function convertToInteractive(key) {\n",
              "        const element = document.querySelector('#df-d0dc01cf-e88a-4faf-848c-2681c60fd887');\n",
              "        const dataTable =\n",
              "          await google.colab.kernel.invokeFunction('convertToInteractive',\n",
              "                                                    [key], {});\n",
              "        if (!dataTable) return;\n",
              "\n",
              "        const docLinkHtml = 'Like what you see? Visit the ' +\n",
              "          '<a target=\"_blank\" href=https://colab.research.google.com/notebooks/data_table.ipynb>data table notebook</a>'\n",
              "          + ' to learn more about interactive tables.';\n",
              "        element.innerHTML = '';\n",
              "        dataTable['output_type'] = 'display_data';\n",
              "        await google.colab.output.renderOutput(dataTable, element);\n",
              "        const docLink = document.createElement('div');\n",
              "        docLink.innerHTML = docLinkHtml;\n",
              "        element.appendChild(docLink);\n",
              "      }\n",
              "    </script>\n",
              "  </div>\n",
              "\n",
              "\n",
              "<div id=\"df-e4a122f1-0a46-427b-b123-97213681f4a8\">\n",
              "  <button class=\"colab-df-quickchart\" onclick=\"quickchart('df-e4a122f1-0a46-427b-b123-97213681f4a8')\"\n",
              "            title=\"Suggest charts\"\n",
              "            style=\"display:none;\">\n",
              "\n",
              "<svg xmlns=\"http://www.w3.org/2000/svg\" height=\"24px\"viewBox=\"0 0 24 24\"\n",
              "     width=\"24px\">\n",
              "    <g>\n",
              "        <path d=\"M19 3H5c-1.1 0-2 .9-2 2v14c0 1.1.9 2 2 2h14c1.1 0 2-.9 2-2V5c0-1.1-.9-2-2-2zM9 17H7v-7h2v7zm4 0h-2V7h2v10zm4 0h-2v-4h2v4z\"/>\n",
              "    </g>\n",
              "</svg>\n",
              "  </button>\n",
              "\n",
              "<style>\n",
              "  .colab-df-quickchart {\n",
              "      --bg-color: #E8F0FE;\n",
              "      --fill-color: #1967D2;\n",
              "      --hover-bg-color: #E2EBFA;\n",
              "      --hover-fill-color: #174EA6;\n",
              "      --disabled-fill-color: #AAA;\n",
              "      --disabled-bg-color: #DDD;\n",
              "  }\n",
              "\n",
              "  [theme=dark] .colab-df-quickchart {\n",
              "      --bg-color: #3B4455;\n",
              "      --fill-color: #D2E3FC;\n",
              "      --hover-bg-color: #434B5C;\n",
              "      --hover-fill-color: #FFFFFF;\n",
              "      --disabled-bg-color: #3B4455;\n",
              "      --disabled-fill-color: #666;\n",
              "  }\n",
              "\n",
              "  .colab-df-quickchart {\n",
              "    background-color: var(--bg-color);\n",
              "    border: none;\n",
              "    border-radius: 50%;\n",
              "    cursor: pointer;\n",
              "    display: none;\n",
              "    fill: var(--fill-color);\n",
              "    height: 32px;\n",
              "    padding: 0;\n",
              "    width: 32px;\n",
              "  }\n",
              "\n",
              "  .colab-df-quickchart:hover {\n",
              "    background-color: var(--hover-bg-color);\n",
              "    box-shadow: 0 1px 2px rgba(60, 64, 67, 0.3), 0 1px 3px 1px rgba(60, 64, 67, 0.15);\n",
              "    fill: var(--button-hover-fill-color);\n",
              "  }\n",
              "\n",
              "  .colab-df-quickchart-complete:disabled,\n",
              "  .colab-df-quickchart-complete:disabled:hover {\n",
              "    background-color: var(--disabled-bg-color);\n",
              "    fill: var(--disabled-fill-color);\n",
              "    box-shadow: none;\n",
              "  }\n",
              "\n",
              "  .colab-df-spinner {\n",
              "    border: 2px solid var(--fill-color);\n",
              "    border-color: transparent;\n",
              "    border-bottom-color: var(--fill-color);\n",
              "    animation:\n",
              "      spin 1s steps(1) infinite;\n",
              "  }\n",
              "\n",
              "  @keyframes spin {\n",
              "    0% {\n",
              "      border-color: transparent;\n",
              "      border-bottom-color: var(--fill-color);\n",
              "      border-left-color: var(--fill-color);\n",
              "    }\n",
              "    20% {\n",
              "      border-color: transparent;\n",
              "      border-left-color: var(--fill-color);\n",
              "      border-top-color: var(--fill-color);\n",
              "    }\n",
              "    30% {\n",
              "      border-color: transparent;\n",
              "      border-left-color: var(--fill-color);\n",
              "      border-top-color: var(--fill-color);\n",
              "      border-right-color: var(--fill-color);\n",
              "    }\n",
              "    40% {\n",
              "      border-color: transparent;\n",
              "      border-right-color: var(--fill-color);\n",
              "      border-top-color: var(--fill-color);\n",
              "    }\n",
              "    60% {\n",
              "      border-color: transparent;\n",
              "      border-right-color: var(--fill-color);\n",
              "    }\n",
              "    80% {\n",
              "      border-color: transparent;\n",
              "      border-right-color: var(--fill-color);\n",
              "      border-bottom-color: var(--fill-color);\n",
              "    }\n",
              "    90% {\n",
              "      border-color: transparent;\n",
              "      border-bottom-color: var(--fill-color);\n",
              "    }\n",
              "  }\n",
              "</style>\n",
              "\n",
              "  <script>\n",
              "    async function quickchart(key) {\n",
              "      const quickchartButtonEl =\n",
              "        document.querySelector('#' + key + ' button');\n",
              "      quickchartButtonEl.disabled = true;  // To prevent multiple clicks.\n",
              "      quickchartButtonEl.classList.add('colab-df-spinner');\n",
              "      try {\n",
              "        const charts = await google.colab.kernel.invokeFunction(\n",
              "            'suggestCharts', [key], {});\n",
              "      } catch (error) {\n",
              "        console.error('Error during call to suggestCharts:', error);\n",
              "      }\n",
              "      quickchartButtonEl.classList.remove('colab-df-spinner');\n",
              "      quickchartButtonEl.classList.add('colab-df-quickchart-complete');\n",
              "    }\n",
              "    (() => {\n",
              "      let quickchartButtonEl =\n",
              "        document.querySelector('#df-e4a122f1-0a46-427b-b123-97213681f4a8 button');\n",
              "      quickchartButtonEl.style.display =\n",
              "        google.colab.kernel.accessAllowed ? 'block' : 'none';\n",
              "    })();\n",
              "  </script>\n",
              "</div>\n",
              "\n",
              "    </div>\n",
              "  </div>\n"
            ],
            "application/vnd.google.colaboratory.intrinsic+json": {
              "type": "dataframe",
              "variable_name": "df"
            }
          },
          "metadata": {},
          "execution_count": 123
        }
      ]
    },
    {
      "cell_type": "code",
      "source": [
        "over_ball = 5.6\n",
        "over_no = int(str(over_ball).split('.')[0])\n",
        "ball_no = int(str(over_ball).split('.')[1])\n",
        "\n",
        "print(over_no*6 + ball_no)\n"
      ],
      "metadata": {
        "colab": {
          "base_uri": "https://localhost:8080/"
        },
        "id": "fPp4mZxe1qPp",
        "outputId": "77818eef-d770-4ba7-e3f4-cba72b88219b"
      },
      "execution_count": null,
      "outputs": [
        {
          "output_type": "stream",
          "name": "stdout",
          "text": [
            "36\n"
          ]
        }
      ]
    },
    {
      "cell_type": "markdown",
      "source": [
        "#Function 1st innings runs prediction"
      ],
      "metadata": {
        "id": "spezMRMa1qUM"
      }
    },
    {
      "cell_type": "code",
      "source": [
        "def innings_1_runs(curr_score, curr_wickets, curr_overs):\n",
        "  pred_runs= curr_score\n",
        "  pred_wks = curr_wickets\n",
        "  over_ball = curr_overs\n",
        "\n",
        "  over_no = int(str(over_ball).split('.')[0])\n",
        "  ball_no = int(str(over_ball).split('.')[1])\n",
        "\n",
        "  leftover_balls = 120 - (over_no*6 + ball_no)\n",
        "\n",
        "  i1p_0 = t1_pb_ls[0]\n",
        "  i1p_1 = t1_pb_ls[1]\n",
        "  i1p_2 = t1_pb_ls[2]\n",
        "  i1p_3 = t1_pb_ls[3]\n",
        "  i1p_4 = t1_pb_ls[4]\n",
        "  i1p_6 = t1_pb_ls[5]\n",
        "  i1p_w = t1_pb_ls[6]\n",
        "\n",
        "  i2p_0 = t2_pb_ls[0]\n",
        "  i2p_1 = t2_pb_ls[1]\n",
        "  i2p_2 = t2_pb_ls[2]\n",
        "  i2p_3 = t2_pb_ls[3]\n",
        "  i2p_4 = t2_pb_ls[4]\n",
        "  i2p_6 = t2_pb_ls[5]\n",
        "  i2p_w = t2_pb_ls[6]\n",
        "\n",
        "  for i in range(leftover_balls):\n",
        "    r_value = np.random.random()\n",
        "    if r_value <= i1p_0:\n",
        "     pred_runs += 0\n",
        "    elif r_value <= i1p_1:\n",
        "     pred_runs += 1\n",
        "    elif r_value <= i1p_2:\n",
        "     pred_runs += 2\n",
        "    elif r_value <= i1p_3:\n",
        "     pred_runs += 3\n",
        "    elif r_value <= i1p_4:\n",
        "     pred_runs += 4\n",
        "    elif r_value <= i1p_6:\n",
        "     pred_runs += 6\n",
        "    else:\n",
        "     pred_runs += 0\n",
        "     pred_wks += 1\n",
        "    if pred_wks == 10:\n",
        "      break\n",
        "\n",
        "  return pred_runs"
      ],
      "metadata": {
        "id": "HxEnAq5H1qX_"
      },
      "execution_count": null,
      "outputs": []
    },
    {
      "cell_type": "code",
      "source": [
        "innings_1_runs(183, 6, 18.2)"
      ],
      "metadata": {
        "colab": {
          "base_uri": "https://localhost:8080/"
        },
        "id": "iwORmrla1qbg",
        "outputId": "3781f65c-5501-411a-cbe4-10beebbb6fb1"
      },
      "execution_count": null,
      "outputs": [
        {
          "output_type": "execute_result",
          "data": {
            "text/plain": [
              "189"
            ]
          },
          "metadata": {},
          "execution_count": 126
        }
      ]
    },
    {
      "cell_type": "code",
      "source": [
        "#Function 2nd Innings Runs"
      ],
      "metadata": {
        "id": "M_2vNH-c1qlF"
      },
      "execution_count": null,
      "outputs": []
    },
    {
      "cell_type": "code",
      "source": [
        "def innings_2_runs(curr_score, curr_wickets, curr_overs, target):\n",
        "  pred_runs= curr_score\n",
        "  pred_wks = curr_wickets\n",
        "  over_ball = curr_overs\n",
        "\n",
        "  over_no = int(str(over_ball).split('.')[0])\n",
        "  ball_no = int(str(over_ball).split('.')[1])\n",
        "\n",
        "  leftover_balls = 120 - (over_no*6 + ball_no)\n",
        "\n",
        "\n",
        "\n",
        "  i2p_0 = t2_pb_ls[0]\n",
        "  i2p_1 = t2_pb_ls[1]\n",
        "  i2p_2 = t2_pb_ls[2]\n",
        "  i2p_3 = t2_pb_ls[3]\n",
        "  i2p_4 = t2_pb_ls[4]\n",
        "  i2p_6 = t2_pb_ls[5]\n",
        "  i2p_w = t2_pb_ls[6]\n",
        "\n",
        "  for i in range(leftover_balls):\n",
        "    r_value = np.random.random()\n",
        "    if r_value <= i2p_0:\n",
        "     pred_runs += 0\n",
        "    elif r_value <= i2p_1:\n",
        "     pred_runs += 1\n",
        "    elif r_value <= i2p_2:\n",
        "     pred_runs += 2\n",
        "    elif r_value <= i2p_3:\n",
        "     pred_runs += 3\n",
        "    elif r_value <= i2p_4:\n",
        "     pred_runs += 4\n",
        "    elif r_value <= i2p_6:\n",
        "     pred_runs += 6\n",
        "    else:\n",
        "     pred_runs += 0\n",
        "     pred_wks += 1\n",
        "    if pred_wks == 10:\n",
        "      break\n",
        "    if pred_runs > target:\n",
        "      break\n",
        "\n",
        "  return pred_runs"
      ],
      "metadata": {
        "id": "2W618eGX1qoc"
      },
      "execution_count": null,
      "outputs": []
    },
    {
      "cell_type": "code",
      "source": [
        "innings_2_runs(196, 4, 17.3, 240)"
      ],
      "metadata": {
        "colab": {
          "base_uri": "https://localhost:8080/"
        },
        "id": "_LKi730-1qse",
        "outputId": "ddbedb0f-aa58-49e0-defc-b0b78d1f799e"
      },
      "execution_count": null,
      "outputs": [
        {
          "output_type": "execute_result",
          "data": {
            "text/plain": [
              "217"
            ]
          },
          "metadata": {},
          "execution_count": 129
        }
      ]
    },
    {
      "cell_type": "code",
      "source": [
        "df[(df.batting_team == t1) & (df.bowling_team == t2) & (df.innings == 1)].match_id.unique()"
      ],
      "metadata": {
        "colab": {
          "base_uri": "https://localhost:8080/"
        },
        "id": "TSeRl8HhwmR1",
        "outputId": "caeee0f7-bca2-481c-89b1-d7abc913822a"
      },
      "execution_count": null,
      "outputs": [
        {
          "output_type": "execute_result",
          "data": {
            "text/plain": [
              "array([ 335985,  392208,  392218,  419119,  419157,  419162,  548360,\n",
              "        598033,  729287,  733983,  829737, 1136574, 1175362, 1254058,\n",
              "       1304064])"
            ]
          },
          "metadata": {},
          "execution_count": 130
        }
      ]
    },
    {
      "cell_type": "code",
      "source": [
        "matchID = 1254058"
      ],
      "metadata": {
        "id": "05sTYrEy1qxL"
      },
      "execution_count": null,
      "outputs": []
    },
    {
      "cell_type": "code",
      "source": [
        "mdf = df[df.match_id == matchID]"
      ],
      "metadata": {
        "id": "goHHqPFC1q1V"
      },
      "execution_count": null,
      "outputs": []
    },
    {
      "cell_type": "code",
      "source": [
        "mdf.reset_index(inplace = True, drop = True)"
      ],
      "metadata": {
        "id": "gqGe342L1q5o"
      },
      "execution_count": null,
      "outputs": []
    },
    {
      "cell_type": "code",
      "source": [
        "mdf.head()"
      ],
      "metadata": {
        "colab": {
          "base_uri": "https://localhost:8080/",
          "height": 573
        },
        "id": "DAtBIxdD1q9l",
        "outputId": "429aede6-e99c-479e-cff3-f7bd06a9e37e"
      },
      "execution_count": null,
      "outputs": [
        {
          "output_type": "execute_result",
          "data": {
            "text/plain": [
              "   match_id  season  start_date                                     venue  innings  ball                 batting_team    bowling_team     striker non_striker     bowler  runs_off_bat  extras  wides  noballs  byes  legbyes  penalty wicket_type player_dismissed  other_wicket_type  other_player_dismissed  total_runs  isOut\n",
              "0   1254058    2021  2021-04-09  MA Chidambaram Stadium, Chepauk, Chennai        2   6.5  Royal Challengers Bangalore  Mumbai Indians     V Kohli  GJ Maxwell  KH Pandya             1       0    NaN      NaN   NaN      NaN      NaN         NaN              NaN                NaN                     NaN           1      0\n",
              "1   1254058    2021  2021-04-09  MA Chidambaram Stadium, Chepauk, Chennai        2   6.6  Royal Challengers Bangalore  Mumbai Indians  GJ Maxwell     V Kohli  KH Pandya             1       0    NaN      NaN   NaN      NaN      NaN         NaN              NaN                NaN                     NaN           1      0\n",
              "2   1254058    2021  2021-04-09  MA Chidambaram Stadium, Chepauk, Chennai        2   5.5  Royal Challengers Bangalore  Mumbai Indians  RM Patidar     V Kohli   TA Boult             0       0    NaN      NaN   NaN      NaN      NaN         NaN              NaN                NaN                     NaN           0      0\n",
              "3   1254058    2021  2021-04-09  MA Chidambaram Stadium, Chepauk, Chennai        2   7.2  Royal Challengers Bangalore  Mumbai Indians  GJ Maxwell     V Kohli  RD Chahar             1       0    NaN      NaN   NaN      NaN      NaN         NaN              NaN                NaN                     NaN           1      0\n",
              "4   1254058    2021  2021-04-09  MA Chidambaram Stadium, Chepauk, Chennai        2   7.1  Royal Challengers Bangalore  Mumbai Indians  GJ Maxwell     V Kohli  RD Chahar             4       0    NaN      NaN   NaN      NaN      NaN         NaN              NaN                NaN                     NaN           4      0"
            ],
            "text/html": [
              "\n",
              "  <div id=\"df-e23ee0fa-0d63-4538-9715-ce2a604f11c8\" class=\"colab-df-container\">\n",
              "    <div>\n",
              "<style scoped>\n",
              "    .dataframe tbody tr th:only-of-type {\n",
              "        vertical-align: middle;\n",
              "    }\n",
              "\n",
              "    .dataframe tbody tr th {\n",
              "        vertical-align: top;\n",
              "    }\n",
              "\n",
              "    .dataframe thead th {\n",
              "        text-align: right;\n",
              "    }\n",
              "</style>\n",
              "<table border=\"1\" class=\"dataframe\">\n",
              "  <thead>\n",
              "    <tr style=\"text-align: right;\">\n",
              "      <th></th>\n",
              "      <th>match_id</th>\n",
              "      <th>season</th>\n",
              "      <th>start_date</th>\n",
              "      <th>venue</th>\n",
              "      <th>innings</th>\n",
              "      <th>ball</th>\n",
              "      <th>batting_team</th>\n",
              "      <th>bowling_team</th>\n",
              "      <th>striker</th>\n",
              "      <th>non_striker</th>\n",
              "      <th>bowler</th>\n",
              "      <th>runs_off_bat</th>\n",
              "      <th>extras</th>\n",
              "      <th>wides</th>\n",
              "      <th>noballs</th>\n",
              "      <th>byes</th>\n",
              "      <th>legbyes</th>\n",
              "      <th>penalty</th>\n",
              "      <th>wicket_type</th>\n",
              "      <th>player_dismissed</th>\n",
              "      <th>other_wicket_type</th>\n",
              "      <th>other_player_dismissed</th>\n",
              "      <th>total_runs</th>\n",
              "      <th>isOut</th>\n",
              "    </tr>\n",
              "  </thead>\n",
              "  <tbody>\n",
              "    <tr>\n",
              "      <th>0</th>\n",
              "      <td>1254058</td>\n",
              "      <td>2021</td>\n",
              "      <td>2021-04-09</td>\n",
              "      <td>MA Chidambaram Stadium, Chepauk, Chennai</td>\n",
              "      <td>2</td>\n",
              "      <td>6.5</td>\n",
              "      <td>Royal Challengers Bangalore</td>\n",
              "      <td>Mumbai Indians</td>\n",
              "      <td>V Kohli</td>\n",
              "      <td>GJ Maxwell</td>\n",
              "      <td>KH Pandya</td>\n",
              "      <td>1</td>\n",
              "      <td>0</td>\n",
              "      <td>NaN</td>\n",
              "      <td>NaN</td>\n",
              "      <td>NaN</td>\n",
              "      <td>NaN</td>\n",
              "      <td>NaN</td>\n",
              "      <td>NaN</td>\n",
              "      <td>NaN</td>\n",
              "      <td>NaN</td>\n",
              "      <td>NaN</td>\n",
              "      <td>1</td>\n",
              "      <td>0</td>\n",
              "    </tr>\n",
              "    <tr>\n",
              "      <th>1</th>\n",
              "      <td>1254058</td>\n",
              "      <td>2021</td>\n",
              "      <td>2021-04-09</td>\n",
              "      <td>MA Chidambaram Stadium, Chepauk, Chennai</td>\n",
              "      <td>2</td>\n",
              "      <td>6.6</td>\n",
              "      <td>Royal Challengers Bangalore</td>\n",
              "      <td>Mumbai Indians</td>\n",
              "      <td>GJ Maxwell</td>\n",
              "      <td>V Kohli</td>\n",
              "      <td>KH Pandya</td>\n",
              "      <td>1</td>\n",
              "      <td>0</td>\n",
              "      <td>NaN</td>\n",
              "      <td>NaN</td>\n",
              "      <td>NaN</td>\n",
              "      <td>NaN</td>\n",
              "      <td>NaN</td>\n",
              "      <td>NaN</td>\n",
              "      <td>NaN</td>\n",
              "      <td>NaN</td>\n",
              "      <td>NaN</td>\n",
              "      <td>1</td>\n",
              "      <td>0</td>\n",
              "    </tr>\n",
              "    <tr>\n",
              "      <th>2</th>\n",
              "      <td>1254058</td>\n",
              "      <td>2021</td>\n",
              "      <td>2021-04-09</td>\n",
              "      <td>MA Chidambaram Stadium, Chepauk, Chennai</td>\n",
              "      <td>2</td>\n",
              "      <td>5.5</td>\n",
              "      <td>Royal Challengers Bangalore</td>\n",
              "      <td>Mumbai Indians</td>\n",
              "      <td>RM Patidar</td>\n",
              "      <td>V Kohli</td>\n",
              "      <td>TA Boult</td>\n",
              "      <td>0</td>\n",
              "      <td>0</td>\n",
              "      <td>NaN</td>\n",
              "      <td>NaN</td>\n",
              "      <td>NaN</td>\n",
              "      <td>NaN</td>\n",
              "      <td>NaN</td>\n",
              "      <td>NaN</td>\n",
              "      <td>NaN</td>\n",
              "      <td>NaN</td>\n",
              "      <td>NaN</td>\n",
              "      <td>0</td>\n",
              "      <td>0</td>\n",
              "    </tr>\n",
              "    <tr>\n",
              "      <th>3</th>\n",
              "      <td>1254058</td>\n",
              "      <td>2021</td>\n",
              "      <td>2021-04-09</td>\n",
              "      <td>MA Chidambaram Stadium, Chepauk, Chennai</td>\n",
              "      <td>2</td>\n",
              "      <td>7.2</td>\n",
              "      <td>Royal Challengers Bangalore</td>\n",
              "      <td>Mumbai Indians</td>\n",
              "      <td>GJ Maxwell</td>\n",
              "      <td>V Kohli</td>\n",
              "      <td>RD Chahar</td>\n",
              "      <td>1</td>\n",
              "      <td>0</td>\n",
              "      <td>NaN</td>\n",
              "      <td>NaN</td>\n",
              "      <td>NaN</td>\n",
              "      <td>NaN</td>\n",
              "      <td>NaN</td>\n",
              "      <td>NaN</td>\n",
              "      <td>NaN</td>\n",
              "      <td>NaN</td>\n",
              "      <td>NaN</td>\n",
              "      <td>1</td>\n",
              "      <td>0</td>\n",
              "    </tr>\n",
              "    <tr>\n",
              "      <th>4</th>\n",
              "      <td>1254058</td>\n",
              "      <td>2021</td>\n",
              "      <td>2021-04-09</td>\n",
              "      <td>MA Chidambaram Stadium, Chepauk, Chennai</td>\n",
              "      <td>2</td>\n",
              "      <td>7.1</td>\n",
              "      <td>Royal Challengers Bangalore</td>\n",
              "      <td>Mumbai Indians</td>\n",
              "      <td>GJ Maxwell</td>\n",
              "      <td>V Kohli</td>\n",
              "      <td>RD Chahar</td>\n",
              "      <td>4</td>\n",
              "      <td>0</td>\n",
              "      <td>NaN</td>\n",
              "      <td>NaN</td>\n",
              "      <td>NaN</td>\n",
              "      <td>NaN</td>\n",
              "      <td>NaN</td>\n",
              "      <td>NaN</td>\n",
              "      <td>NaN</td>\n",
              "      <td>NaN</td>\n",
              "      <td>NaN</td>\n",
              "      <td>4</td>\n",
              "      <td>0</td>\n",
              "    </tr>\n",
              "  </tbody>\n",
              "</table>\n",
              "</div>\n",
              "    <div class=\"colab-df-buttons\">\n",
              "\n",
              "  <div class=\"colab-df-container\">\n",
              "    <button class=\"colab-df-convert\" onclick=\"convertToInteractive('df-e23ee0fa-0d63-4538-9715-ce2a604f11c8')\"\n",
              "            title=\"Convert this dataframe to an interactive table.\"\n",
              "            style=\"display:none;\">\n",
              "\n",
              "  <svg xmlns=\"http://www.w3.org/2000/svg\" height=\"24px\" viewBox=\"0 -960 960 960\">\n",
              "    <path d=\"M120-120v-720h720v720H120Zm60-500h600v-160H180v160Zm220 220h160v-160H400v160Zm0 220h160v-160H400v160ZM180-400h160v-160H180v160Zm440 0h160v-160H620v160ZM180-180h160v-160H180v160Zm440 0h160v-160H620v160Z\"/>\n",
              "  </svg>\n",
              "    </button>\n",
              "\n",
              "  <style>\n",
              "    .colab-df-container {\n",
              "      display:flex;\n",
              "      gap: 12px;\n",
              "    }\n",
              "\n",
              "    .colab-df-convert {\n",
              "      background-color: #E8F0FE;\n",
              "      border: none;\n",
              "      border-radius: 50%;\n",
              "      cursor: pointer;\n",
              "      display: none;\n",
              "      fill: #1967D2;\n",
              "      height: 32px;\n",
              "      padding: 0 0 0 0;\n",
              "      width: 32px;\n",
              "    }\n",
              "\n",
              "    .colab-df-convert:hover {\n",
              "      background-color: #E2EBFA;\n",
              "      box-shadow: 0px 1px 2px rgba(60, 64, 67, 0.3), 0px 1px 3px 1px rgba(60, 64, 67, 0.15);\n",
              "      fill: #174EA6;\n",
              "    }\n",
              "\n",
              "    .colab-df-buttons div {\n",
              "      margin-bottom: 4px;\n",
              "    }\n",
              "\n",
              "    [theme=dark] .colab-df-convert {\n",
              "      background-color: #3B4455;\n",
              "      fill: #D2E3FC;\n",
              "    }\n",
              "\n",
              "    [theme=dark] .colab-df-convert:hover {\n",
              "      background-color: #434B5C;\n",
              "      box-shadow: 0px 1px 3px 1px rgba(0, 0, 0, 0.15);\n",
              "      filter: drop-shadow(0px 1px 2px rgba(0, 0, 0, 0.3));\n",
              "      fill: #FFFFFF;\n",
              "    }\n",
              "  </style>\n",
              "\n",
              "    <script>\n",
              "      const buttonEl =\n",
              "        document.querySelector('#df-e23ee0fa-0d63-4538-9715-ce2a604f11c8 button.colab-df-convert');\n",
              "      buttonEl.style.display =\n",
              "        google.colab.kernel.accessAllowed ? 'block' : 'none';\n",
              "\n",
              "      async function convertToInteractive(key) {\n",
              "        const element = document.querySelector('#df-e23ee0fa-0d63-4538-9715-ce2a604f11c8');\n",
              "        const dataTable =\n",
              "          await google.colab.kernel.invokeFunction('convertToInteractive',\n",
              "                                                    [key], {});\n",
              "        if (!dataTable) return;\n",
              "\n",
              "        const docLinkHtml = 'Like what you see? Visit the ' +\n",
              "          '<a target=\"_blank\" href=https://colab.research.google.com/notebooks/data_table.ipynb>data table notebook</a>'\n",
              "          + ' to learn more about interactive tables.';\n",
              "        element.innerHTML = '';\n",
              "        dataTable['output_type'] = 'display_data';\n",
              "        await google.colab.output.renderOutput(dataTable, element);\n",
              "        const docLink = document.createElement('div');\n",
              "        docLink.innerHTML = docLinkHtml;\n",
              "        element.appendChild(docLink);\n",
              "      }\n",
              "    </script>\n",
              "  </div>\n",
              "\n",
              "\n",
              "<div id=\"df-7875f996-6b15-490e-a563-c7a1f3bc44e4\">\n",
              "  <button class=\"colab-df-quickchart\" onclick=\"quickchart('df-7875f996-6b15-490e-a563-c7a1f3bc44e4')\"\n",
              "            title=\"Suggest charts\"\n",
              "            style=\"display:none;\">\n",
              "\n",
              "<svg xmlns=\"http://www.w3.org/2000/svg\" height=\"24px\"viewBox=\"0 0 24 24\"\n",
              "     width=\"24px\">\n",
              "    <g>\n",
              "        <path d=\"M19 3H5c-1.1 0-2 .9-2 2v14c0 1.1.9 2 2 2h14c1.1 0 2-.9 2-2V5c0-1.1-.9-2-2-2zM9 17H7v-7h2v7zm4 0h-2V7h2v10zm4 0h-2v-4h2v4z\"/>\n",
              "    </g>\n",
              "</svg>\n",
              "  </button>\n",
              "\n",
              "<style>\n",
              "  .colab-df-quickchart {\n",
              "      --bg-color: #E8F0FE;\n",
              "      --fill-color: #1967D2;\n",
              "      --hover-bg-color: #E2EBFA;\n",
              "      --hover-fill-color: #174EA6;\n",
              "      --disabled-fill-color: #AAA;\n",
              "      --disabled-bg-color: #DDD;\n",
              "  }\n",
              "\n",
              "  [theme=dark] .colab-df-quickchart {\n",
              "      --bg-color: #3B4455;\n",
              "      --fill-color: #D2E3FC;\n",
              "      --hover-bg-color: #434B5C;\n",
              "      --hover-fill-color: #FFFFFF;\n",
              "      --disabled-bg-color: #3B4455;\n",
              "      --disabled-fill-color: #666;\n",
              "  }\n",
              "\n",
              "  .colab-df-quickchart {\n",
              "    background-color: var(--bg-color);\n",
              "    border: none;\n",
              "    border-radius: 50%;\n",
              "    cursor: pointer;\n",
              "    display: none;\n",
              "    fill: var(--fill-color);\n",
              "    height: 32px;\n",
              "    padding: 0;\n",
              "    width: 32px;\n",
              "  }\n",
              "\n",
              "  .colab-df-quickchart:hover {\n",
              "    background-color: var(--hover-bg-color);\n",
              "    box-shadow: 0 1px 2px rgba(60, 64, 67, 0.3), 0 1px 3px 1px rgba(60, 64, 67, 0.15);\n",
              "    fill: var(--button-hover-fill-color);\n",
              "  }\n",
              "\n",
              "  .colab-df-quickchart-complete:disabled,\n",
              "  .colab-df-quickchart-complete:disabled:hover {\n",
              "    background-color: var(--disabled-bg-color);\n",
              "    fill: var(--disabled-fill-color);\n",
              "    box-shadow: none;\n",
              "  }\n",
              "\n",
              "  .colab-df-spinner {\n",
              "    border: 2px solid var(--fill-color);\n",
              "    border-color: transparent;\n",
              "    border-bottom-color: var(--fill-color);\n",
              "    animation:\n",
              "      spin 1s steps(1) infinite;\n",
              "  }\n",
              "\n",
              "  @keyframes spin {\n",
              "    0% {\n",
              "      border-color: transparent;\n",
              "      border-bottom-color: var(--fill-color);\n",
              "      border-left-color: var(--fill-color);\n",
              "    }\n",
              "    20% {\n",
              "      border-color: transparent;\n",
              "      border-left-color: var(--fill-color);\n",
              "      border-top-color: var(--fill-color);\n",
              "    }\n",
              "    30% {\n",
              "      border-color: transparent;\n",
              "      border-left-color: var(--fill-color);\n",
              "      border-top-color: var(--fill-color);\n",
              "      border-right-color: var(--fill-color);\n",
              "    }\n",
              "    40% {\n",
              "      border-color: transparent;\n",
              "      border-right-color: var(--fill-color);\n",
              "      border-top-color: var(--fill-color);\n",
              "    }\n",
              "    60% {\n",
              "      border-color: transparent;\n",
              "      border-right-color: var(--fill-color);\n",
              "    }\n",
              "    80% {\n",
              "      border-color: transparent;\n",
              "      border-right-color: var(--fill-color);\n",
              "      border-bottom-color: var(--fill-color);\n",
              "    }\n",
              "    90% {\n",
              "      border-color: transparent;\n",
              "      border-bottom-color: var(--fill-color);\n",
              "    }\n",
              "  }\n",
              "</style>\n",
              "\n",
              "  <script>\n",
              "    async function quickchart(key) {\n",
              "      const quickchartButtonEl =\n",
              "        document.querySelector('#' + key + ' button');\n",
              "      quickchartButtonEl.disabled = true;  // To prevent multiple clicks.\n",
              "      quickchartButtonEl.classList.add('colab-df-spinner');\n",
              "      try {\n",
              "        const charts = await google.colab.kernel.invokeFunction(\n",
              "            'suggestCharts', [key], {});\n",
              "      } catch (error) {\n",
              "        console.error('Error during call to suggestCharts:', error);\n",
              "      }\n",
              "      quickchartButtonEl.classList.remove('colab-df-spinner');\n",
              "      quickchartButtonEl.classList.add('colab-df-quickchart-complete');\n",
              "    }\n",
              "    (() => {\n",
              "      let quickchartButtonEl =\n",
              "        document.querySelector('#df-7875f996-6b15-490e-a563-c7a1f3bc44e4 button');\n",
              "      quickchartButtonEl.style.display =\n",
              "        google.colab.kernel.accessAllowed ? 'block' : 'none';\n",
              "    })();\n",
              "  </script>\n",
              "</div>\n",
              "\n",
              "    </div>\n",
              "  </div>\n"
            ],
            "application/vnd.google.colaboratory.intrinsic+json": {
              "type": "dataframe",
              "variable_name": "mdf"
            }
          },
          "metadata": {},
          "execution_count": 134
        }
      ]
    },
    {
      "cell_type": "code",
      "source": [
        "df1 = mdf[mdf.innings == 1]\n",
        "df2 = mdf[mdf.innings == 2]"
      ],
      "metadata": {
        "id": "13rsEZg61rBB"
      },
      "execution_count": null,
      "outputs": []
    },
    {
      "cell_type": "code",
      "source": [
        "df1.head(2)    #not sorted by balls"
      ],
      "metadata": {
        "colab": {
          "base_uri": "https://localhost:8080/",
          "height": 271
        },
        "id": "srt7gQbG1rEQ",
        "outputId": "0d4ed1eb-d260-4f3f-f6aa-eee183facc44"
      },
      "execution_count": null,
      "outputs": [
        {
          "output_type": "execute_result",
          "data": {
            "text/plain": [
              "     match_id  season  start_date                                     venue  innings  ball    batting_team                 bowling_team    striker non_striker          bowler  runs_off_bat  extras  wides  noballs  byes  legbyes  penalty wicket_type player_dismissed  other_wicket_type  other_player_dismissed  total_runs  isOut\n",
              "124   1254058    2021  2021-04-09  MA Chidambaram Stadium, Chepauk, Chennai        1   0.6  Mumbai Indians  Royal Challengers Bangalore  RG Sharma     CA Lynn  Mohammed Siraj             1       0    NaN      NaN   NaN      NaN      NaN         NaN              NaN                NaN                     NaN           1      0\n",
              "126   1254058    2021  2021-04-09  MA Chidambaram Stadium, Chepauk, Chennai        1   5.4  Mumbai Indians  Royal Challengers Bangalore    CA Lynn    SA Yadav       YS Chahal             1       0    NaN      NaN   NaN      NaN      NaN         NaN              NaN                NaN                     NaN           1      0"
            ],
            "text/html": [
              "\n",
              "  <div id=\"df-581ef355-7523-4363-95e9-0b9e03faeeb4\" class=\"colab-df-container\">\n",
              "    <div>\n",
              "<style scoped>\n",
              "    .dataframe tbody tr th:only-of-type {\n",
              "        vertical-align: middle;\n",
              "    }\n",
              "\n",
              "    .dataframe tbody tr th {\n",
              "        vertical-align: top;\n",
              "    }\n",
              "\n",
              "    .dataframe thead th {\n",
              "        text-align: right;\n",
              "    }\n",
              "</style>\n",
              "<table border=\"1\" class=\"dataframe\">\n",
              "  <thead>\n",
              "    <tr style=\"text-align: right;\">\n",
              "      <th></th>\n",
              "      <th>match_id</th>\n",
              "      <th>season</th>\n",
              "      <th>start_date</th>\n",
              "      <th>venue</th>\n",
              "      <th>innings</th>\n",
              "      <th>ball</th>\n",
              "      <th>batting_team</th>\n",
              "      <th>bowling_team</th>\n",
              "      <th>striker</th>\n",
              "      <th>non_striker</th>\n",
              "      <th>bowler</th>\n",
              "      <th>runs_off_bat</th>\n",
              "      <th>extras</th>\n",
              "      <th>wides</th>\n",
              "      <th>noballs</th>\n",
              "      <th>byes</th>\n",
              "      <th>legbyes</th>\n",
              "      <th>penalty</th>\n",
              "      <th>wicket_type</th>\n",
              "      <th>player_dismissed</th>\n",
              "      <th>other_wicket_type</th>\n",
              "      <th>other_player_dismissed</th>\n",
              "      <th>total_runs</th>\n",
              "      <th>isOut</th>\n",
              "    </tr>\n",
              "  </thead>\n",
              "  <tbody>\n",
              "    <tr>\n",
              "      <th>124</th>\n",
              "      <td>1254058</td>\n",
              "      <td>2021</td>\n",
              "      <td>2021-04-09</td>\n",
              "      <td>MA Chidambaram Stadium, Chepauk, Chennai</td>\n",
              "      <td>1</td>\n",
              "      <td>0.6</td>\n",
              "      <td>Mumbai Indians</td>\n",
              "      <td>Royal Challengers Bangalore</td>\n",
              "      <td>RG Sharma</td>\n",
              "      <td>CA Lynn</td>\n",
              "      <td>Mohammed Siraj</td>\n",
              "      <td>1</td>\n",
              "      <td>0</td>\n",
              "      <td>NaN</td>\n",
              "      <td>NaN</td>\n",
              "      <td>NaN</td>\n",
              "      <td>NaN</td>\n",
              "      <td>NaN</td>\n",
              "      <td>NaN</td>\n",
              "      <td>NaN</td>\n",
              "      <td>NaN</td>\n",
              "      <td>NaN</td>\n",
              "      <td>1</td>\n",
              "      <td>0</td>\n",
              "    </tr>\n",
              "    <tr>\n",
              "      <th>126</th>\n",
              "      <td>1254058</td>\n",
              "      <td>2021</td>\n",
              "      <td>2021-04-09</td>\n",
              "      <td>MA Chidambaram Stadium, Chepauk, Chennai</td>\n",
              "      <td>1</td>\n",
              "      <td>5.4</td>\n",
              "      <td>Mumbai Indians</td>\n",
              "      <td>Royal Challengers Bangalore</td>\n",
              "      <td>CA Lynn</td>\n",
              "      <td>SA Yadav</td>\n",
              "      <td>YS Chahal</td>\n",
              "      <td>1</td>\n",
              "      <td>0</td>\n",
              "      <td>NaN</td>\n",
              "      <td>NaN</td>\n",
              "      <td>NaN</td>\n",
              "      <td>NaN</td>\n",
              "      <td>NaN</td>\n",
              "      <td>NaN</td>\n",
              "      <td>NaN</td>\n",
              "      <td>NaN</td>\n",
              "      <td>NaN</td>\n",
              "      <td>1</td>\n",
              "      <td>0</td>\n",
              "    </tr>\n",
              "  </tbody>\n",
              "</table>\n",
              "</div>\n",
              "    <div class=\"colab-df-buttons\">\n",
              "\n",
              "  <div class=\"colab-df-container\">\n",
              "    <button class=\"colab-df-convert\" onclick=\"convertToInteractive('df-581ef355-7523-4363-95e9-0b9e03faeeb4')\"\n",
              "            title=\"Convert this dataframe to an interactive table.\"\n",
              "            style=\"display:none;\">\n",
              "\n",
              "  <svg xmlns=\"http://www.w3.org/2000/svg\" height=\"24px\" viewBox=\"0 -960 960 960\">\n",
              "    <path d=\"M120-120v-720h720v720H120Zm60-500h600v-160H180v160Zm220 220h160v-160H400v160Zm0 220h160v-160H400v160ZM180-400h160v-160H180v160Zm440 0h160v-160H620v160ZM180-180h160v-160H180v160Zm440 0h160v-160H620v160Z\"/>\n",
              "  </svg>\n",
              "    </button>\n",
              "\n",
              "  <style>\n",
              "    .colab-df-container {\n",
              "      display:flex;\n",
              "      gap: 12px;\n",
              "    }\n",
              "\n",
              "    .colab-df-convert {\n",
              "      background-color: #E8F0FE;\n",
              "      border: none;\n",
              "      border-radius: 50%;\n",
              "      cursor: pointer;\n",
              "      display: none;\n",
              "      fill: #1967D2;\n",
              "      height: 32px;\n",
              "      padding: 0 0 0 0;\n",
              "      width: 32px;\n",
              "    }\n",
              "\n",
              "    .colab-df-convert:hover {\n",
              "      background-color: #E2EBFA;\n",
              "      box-shadow: 0px 1px 2px rgba(60, 64, 67, 0.3), 0px 1px 3px 1px rgba(60, 64, 67, 0.15);\n",
              "      fill: #174EA6;\n",
              "    }\n",
              "\n",
              "    .colab-df-buttons div {\n",
              "      margin-bottom: 4px;\n",
              "    }\n",
              "\n",
              "    [theme=dark] .colab-df-convert {\n",
              "      background-color: #3B4455;\n",
              "      fill: #D2E3FC;\n",
              "    }\n",
              "\n",
              "    [theme=dark] .colab-df-convert:hover {\n",
              "      background-color: #434B5C;\n",
              "      box-shadow: 0px 1px 3px 1px rgba(0, 0, 0, 0.15);\n",
              "      filter: drop-shadow(0px 1px 2px rgba(0, 0, 0, 0.3));\n",
              "      fill: #FFFFFF;\n",
              "    }\n",
              "  </style>\n",
              "\n",
              "    <script>\n",
              "      const buttonEl =\n",
              "        document.querySelector('#df-581ef355-7523-4363-95e9-0b9e03faeeb4 button.colab-df-convert');\n",
              "      buttonEl.style.display =\n",
              "        google.colab.kernel.accessAllowed ? 'block' : 'none';\n",
              "\n",
              "      async function convertToInteractive(key) {\n",
              "        const element = document.querySelector('#df-581ef355-7523-4363-95e9-0b9e03faeeb4');\n",
              "        const dataTable =\n",
              "          await google.colab.kernel.invokeFunction('convertToInteractive',\n",
              "                                                    [key], {});\n",
              "        if (!dataTable) return;\n",
              "\n",
              "        const docLinkHtml = 'Like what you see? Visit the ' +\n",
              "          '<a target=\"_blank\" href=https://colab.research.google.com/notebooks/data_table.ipynb>data table notebook</a>'\n",
              "          + ' to learn more about interactive tables.';\n",
              "        element.innerHTML = '';\n",
              "        dataTable['output_type'] = 'display_data';\n",
              "        await google.colab.output.renderOutput(dataTable, element);\n",
              "        const docLink = document.createElement('div');\n",
              "        docLink.innerHTML = docLinkHtml;\n",
              "        element.appendChild(docLink);\n",
              "      }\n",
              "    </script>\n",
              "  </div>\n",
              "\n",
              "\n",
              "<div id=\"df-ef0c9fdd-c4e0-42bf-a7c4-46fb2768f593\">\n",
              "  <button class=\"colab-df-quickchart\" onclick=\"quickchart('df-ef0c9fdd-c4e0-42bf-a7c4-46fb2768f593')\"\n",
              "            title=\"Suggest charts\"\n",
              "            style=\"display:none;\">\n",
              "\n",
              "<svg xmlns=\"http://www.w3.org/2000/svg\" height=\"24px\"viewBox=\"0 0 24 24\"\n",
              "     width=\"24px\">\n",
              "    <g>\n",
              "        <path d=\"M19 3H5c-1.1 0-2 .9-2 2v14c0 1.1.9 2 2 2h14c1.1 0 2-.9 2-2V5c0-1.1-.9-2-2-2zM9 17H7v-7h2v7zm4 0h-2V7h2v10zm4 0h-2v-4h2v4z\"/>\n",
              "    </g>\n",
              "</svg>\n",
              "  </button>\n",
              "\n",
              "<style>\n",
              "  .colab-df-quickchart {\n",
              "      --bg-color: #E8F0FE;\n",
              "      --fill-color: #1967D2;\n",
              "      --hover-bg-color: #E2EBFA;\n",
              "      --hover-fill-color: #174EA6;\n",
              "      --disabled-fill-color: #AAA;\n",
              "      --disabled-bg-color: #DDD;\n",
              "  }\n",
              "\n",
              "  [theme=dark] .colab-df-quickchart {\n",
              "      --bg-color: #3B4455;\n",
              "      --fill-color: #D2E3FC;\n",
              "      --hover-bg-color: #434B5C;\n",
              "      --hover-fill-color: #FFFFFF;\n",
              "      --disabled-bg-color: #3B4455;\n",
              "      --disabled-fill-color: #666;\n",
              "  }\n",
              "\n",
              "  .colab-df-quickchart {\n",
              "    background-color: var(--bg-color);\n",
              "    border: none;\n",
              "    border-radius: 50%;\n",
              "    cursor: pointer;\n",
              "    display: none;\n",
              "    fill: var(--fill-color);\n",
              "    height: 32px;\n",
              "    padding: 0;\n",
              "    width: 32px;\n",
              "  }\n",
              "\n",
              "  .colab-df-quickchart:hover {\n",
              "    background-color: var(--hover-bg-color);\n",
              "    box-shadow: 0 1px 2px rgba(60, 64, 67, 0.3), 0 1px 3px 1px rgba(60, 64, 67, 0.15);\n",
              "    fill: var(--button-hover-fill-color);\n",
              "  }\n",
              "\n",
              "  .colab-df-quickchart-complete:disabled,\n",
              "  .colab-df-quickchart-complete:disabled:hover {\n",
              "    background-color: var(--disabled-bg-color);\n",
              "    fill: var(--disabled-fill-color);\n",
              "    box-shadow: none;\n",
              "  }\n",
              "\n",
              "  .colab-df-spinner {\n",
              "    border: 2px solid var(--fill-color);\n",
              "    border-color: transparent;\n",
              "    border-bottom-color: var(--fill-color);\n",
              "    animation:\n",
              "      spin 1s steps(1) infinite;\n",
              "  }\n",
              "\n",
              "  @keyframes spin {\n",
              "    0% {\n",
              "      border-color: transparent;\n",
              "      border-bottom-color: var(--fill-color);\n",
              "      border-left-color: var(--fill-color);\n",
              "    }\n",
              "    20% {\n",
              "      border-color: transparent;\n",
              "      border-left-color: var(--fill-color);\n",
              "      border-top-color: var(--fill-color);\n",
              "    }\n",
              "    30% {\n",
              "      border-color: transparent;\n",
              "      border-left-color: var(--fill-color);\n",
              "      border-top-color: var(--fill-color);\n",
              "      border-right-color: var(--fill-color);\n",
              "    }\n",
              "    40% {\n",
              "      border-color: transparent;\n",
              "      border-right-color: var(--fill-color);\n",
              "      border-top-color: var(--fill-color);\n",
              "    }\n",
              "    60% {\n",
              "      border-color: transparent;\n",
              "      border-right-color: var(--fill-color);\n",
              "    }\n",
              "    80% {\n",
              "      border-color: transparent;\n",
              "      border-right-color: var(--fill-color);\n",
              "      border-bottom-color: var(--fill-color);\n",
              "    }\n",
              "    90% {\n",
              "      border-color: transparent;\n",
              "      border-bottom-color: var(--fill-color);\n",
              "    }\n",
              "  }\n",
              "</style>\n",
              "\n",
              "  <script>\n",
              "    async function quickchart(key) {\n",
              "      const quickchartButtonEl =\n",
              "        document.querySelector('#' + key + ' button');\n",
              "      quickchartButtonEl.disabled = true;  // To prevent multiple clicks.\n",
              "      quickchartButtonEl.classList.add('colab-df-spinner');\n",
              "      try {\n",
              "        const charts = await google.colab.kernel.invokeFunction(\n",
              "            'suggestCharts', [key], {});\n",
              "      } catch (error) {\n",
              "        console.error('Error during call to suggestCharts:', error);\n",
              "      }\n",
              "      quickchartButtonEl.classList.remove('colab-df-spinner');\n",
              "      quickchartButtonEl.classList.add('colab-df-quickchart-complete');\n",
              "    }\n",
              "    (() => {\n",
              "      let quickchartButtonEl =\n",
              "        document.querySelector('#df-ef0c9fdd-c4e0-42bf-a7c4-46fb2768f593 button');\n",
              "      quickchartButtonEl.style.display =\n",
              "        google.colab.kernel.accessAllowed ? 'block' : 'none';\n",
              "    })();\n",
              "  </script>\n",
              "</div>\n",
              "\n",
              "    </div>\n",
              "  </div>\n"
            ],
            "application/vnd.google.colaboratory.intrinsic+json": {
              "type": "dataframe",
              "variable_name": "df1"
            }
          },
          "metadata": {},
          "execution_count": 136
        }
      ]
    },
    {
      "cell_type": "code",
      "source": [
        "df1 = df1.sort_values('ball' , ascending = True)\n",
        "df2 = df2.sort_values('ball' , ascending = True)"
      ],
      "metadata": {
        "id": "jgJy0B5A1rIN"
      },
      "execution_count": null,
      "outputs": []
    },
    {
      "cell_type": "code",
      "source": [
        "df1.reset_index(inplace = True, drop = True)\n",
        "df2.reset_index(inplace = True, drop = True)"
      ],
      "metadata": {
        "id": "O9BtXY-J1rPD"
      },
      "execution_count": null,
      "outputs": []
    },
    {
      "cell_type": "markdown",
      "source": [
        "#Innings 1 prediction"
      ],
      "metadata": {
        "id": "91Q-vC95D2d9"
      }
    },
    {
      "cell_type": "code",
      "source": [
        "curr_score = 0\n",
        "curr_wickets = 0\n",
        "curr_overs = 0.0\n",
        "\n",
        "ing1_runs_pred = []\n",
        "\n",
        "for i in range(len(df1)):\n",
        "  curr_score += df1.total_runs[i]\n",
        "  curr_wickets += df1.isOut[i]\n",
        "  curr_overs = df1.ball[i]\n",
        "\n",
        "  prediction = innings_1_runs(curr_score, curr_wickets, curr_overs)\n",
        "  ing1_runs_pred.append(prediction)"
      ],
      "metadata": {
        "id": "k9Hkk8aLzGZS"
      },
      "execution_count": null,
      "outputs": []
    },
    {
      "cell_type": "code",
      "source": [
        "#ing1_runs_pred"
      ],
      "metadata": {
        "id": "SvRjxw5xzGgg"
      },
      "execution_count": null,
      "outputs": []
    },
    {
      "cell_type": "code",
      "source": [
        "actual_score = sum(df1.total_runs)"
      ],
      "metadata": {
        "id": "_oiTOAO3zGpI"
      },
      "execution_count": null,
      "outputs": []
    },
    {
      "cell_type": "code",
      "source": [
        "import matplotlib.pyplot as plt\n",
        "x_values = [i for i in range(len(df1))]\n",
        "y_values = ing1_runs_pred\n",
        "\n",
        "plt.figure(figsize = (16,5))\n",
        "plt.scatter(x_values, y_values, color ='r', alpha = 0.5, label = 'Predicted')\n",
        "plt.axhline(actual_score, ls= '--', color = 'g', label = 'actual')\n",
        "plt.xlabel('Balls')\n",
        "plt.ylabel('Runs')\n",
        "plt.title('First Innings - Runs Prediction: ' + str(actual_score), fontsize = 16)\n",
        "plt.legend()\n",
        "plt.gca().set_ylim(0, actual_score + 40)\n",
        "plt.show()"
      ],
      "metadata": {
        "colab": {
          "base_uri": "https://localhost:8080/",
          "height": 483
        },
        "id": "eHO__vCs4Pue",
        "outputId": "f009c40e-8339-4bb1-b046-cdc81641537e"
      },
      "execution_count": null,
      "outputs": [
        {
          "output_type": "display_data",
          "data": {
            "text/plain": [
              "<Figure size 1600x500 with 1 Axes>"
            ],
            "image/png": "[encoded data removed]"
          },
          "metadata": {}
        }
      ]
    },
    {
      "cell_type": "code",
      "source": [
        "error_ing1_ls = [abs(i - actual_score) for i in ing1_runs_pred]"
      ],
      "metadata": {
        "id": "bwecjkxi4P7a"
      },
      "execution_count": null,
      "outputs": []
    },
    {
      "cell_type": "code",
      "source": [
        "np.mean(error_ing1_ls)"
      ],
      "metadata": {
        "colab": {
          "base_uri": "https://localhost:8080/"
        },
        "id": "boGpOTBlzGwn",
        "outputId": "ba710a0a-6a18-4e6a-ddf3-dc31b345f057"
      },
      "execution_count": null,
      "outputs": [
        {
          "output_type": "execute_result",
          "data": {
            "text/plain": [
              "12.008064516129032"
            ]
          },
          "metadata": {},
          "execution_count": 145
        }
      ]
    },
    {
      "cell_type": "markdown",
      "source": [
        "#Innings 2 prediction"
      ],
      "metadata": {
        "id": "CCdfHY0czG33"
      }
    },
    {
      "cell_type": "code",
      "source": [
        "curr_score = 0\n",
        "curr_wickets = 0\n",
        "curr_overs = 0.0\n",
        "\n",
        "ing2_runs_pred = []\n",
        "\n",
        "for i in range(len(df2)):\n",
        "  curr_score += df2.total_runs[i]\n",
        "  curr_wickets += df2.isOut[i]\n",
        "  curr_overs = df2.ball[i]\n",
        "  target = actual_score + 1\n",
        "\n",
        "  prediction = innings_2_runs(curr_score, curr_wickets, curr_overs, target)\n",
        "  ing2_runs_pred.append(prediction)"
      ],
      "metadata": {
        "id": "0PxmRTIfzG_Q"
      },
      "execution_count": null,
      "outputs": []
    },
    {
      "cell_type": "code",
      "source": [
        "ing2_actual_score = sum(df2.total_runs)"
      ],
      "metadata": {
        "id": "O6Rov9dS1rSc"
      },
      "execution_count": null,
      "outputs": []
    },
    {
      "cell_type": "code",
      "source": [
        "import matplotlib.pyplot as plt\n",
        "x_values = [i for i in range(len(df2))]\n",
        "y_values = ing2_runs_pred\n",
        "\n",
        "plt.figure(figsize = (16,5))\n",
        "plt.scatter(x_values, y_values, color ='r', alpha = 0.5, label = 'Predicted')\n",
        "plt.axhline(actual_score, ls= '--', color = 'g', label = 'actual')\n",
        "plt.xlabel('Balls')\n",
        "plt.ylabel('Runs')\n",
        "plt.title('Second Innings - Runs Prediction: ' + str(ing2_actual_score), fontsize = 16)\n",
        "plt.legend()\n",
        "plt.gca().set_ylim(0, actual_score + 40)\n",
        "plt.show()"
      ],
      "metadata": {
        "colab": {
          "base_uri": "https://localhost:8080/",
          "height": 483
        },
        "id": "HhdbEvrT1rV3",
        "outputId": "85b34615-ef0e-4a5f-f762-ce05738236a7"
      },
      "execution_count": null,
      "outputs": [
        {
          "output_type": "display_data",
          "data": {
            "text/plain": [
              "<Figure size 1600x500 with 1 Axes>"
            ],
            "image/png": "[encoded data removed]"
          },
          "metadata": {}
        }
      ]
    },
    {
      "cell_type": "code",
      "source": [
        "error_ing2_ls = [abs(i - ing2_actual_score) for i in ing2_runs_pred]"
      ],
      "metadata": {
        "id": "4Gm8nKdJF6PS"
      },
      "execution_count": null,
      "outputs": []
    },
    {
      "cell_type": "code",
      "source": [
        "np.mean(error_ing2_ls)"
      ],
      "metadata": {
        "colab": {
          "base_uri": "https://localhost:8080/"
        },
        "id": "1-32qexQF6cx",
        "outputId": "f891bb60-5eb5-4af4-fcd2-96425d0a3b10"
      },
      "execution_count": null,
      "outputs": [
        {
          "output_type": "execute_result",
          "data": {
            "text/plain": [
              "10.873015873015873"
            ]
          },
          "metadata": {},
          "execution_count": 163
        }
      ]
    },
    {
      "cell_type": "markdown",
      "source": [
        "#Win Predictions 1st innings"
      ],
      "metadata": {
        "id": "N1kDdM_FHktF"
      }
    },
    {
      "cell_type": "code",
      "source": [
        "#intialize win, lose , tie - wrt to chasing team\n",
        "\n",
        "win_count = 0\n",
        "tie_count = 0\n",
        "lose_count = 0\n",
        "\n",
        "win_count_ls = []\n",
        "tie_count_ls = []\n",
        "lose_count_ls = []\n",
        "\n",
        "ing1_curr_score = 0\n",
        "ing1_curr_wickets = 0\n",
        "ing1_curr_overs = 0\n",
        "\n",
        "#each ball\n",
        "for i in range(len(df1)):\n",
        "  #1st innings values\n",
        "  ing1_curr_score += df1.total_runs[i]\n",
        "  ing1_curr_wickets += df1.isOut[i]\n",
        "  ing1_curr_overs = df1.ball[i]\n",
        "\n",
        "  #2nd innings values\n",
        "  ing2_curr_score = 0\n",
        "  ing2_curr_wickets = 0\n",
        "  ing2_curr_overs = 0.0\n",
        "\n",
        "  #100 iterations\n",
        "  for j in range(100):\n",
        "    ings1_runs_prediction = innings_1_runs(ing1_curr_score, ing1_curr_wickets, ing1_curr_overs)\n",
        "    target = ings1_runs_prediction\n",
        "    ings2_runs_prediction = innings_2_runs(ing2_curr_score, ing2_curr_wickets, ing2_curr_overs, target)\n",
        "\n",
        "    if ings2_runs_prediction > target:\n",
        "      win_count += 1\n",
        "    elif ings2_runs_prediction == target:\n",
        "      tie_count += 1\n",
        "    else:\n",
        "      lose_count += 1\n",
        "\n",
        "  win_count_ls.append(win_count)\n",
        "  lose_count_ls.append(lose_count)\n",
        "  tie_count_ls.append(tie_count)\n",
        "\n",
        "  win_count = 0\n",
        "  lose_count = 0\n",
        "  tie_count = 0"
      ],
      "metadata": {
        "id": "8fpJTUv9Hk5F"
      },
      "execution_count": null,
      "outputs": []
    },
    {
      "cell_type": "code",
      "source": [
        "#win_count_ls, lose_count_ls, tie_count_ls"
      ],
      "metadata": {
        "id": "v9wO04YEUog0"
      },
      "execution_count": null,
      "outputs": []
    },
    {
      "cell_type": "markdown",
      "source": [
        "#Win prediction 2nd Innings"
      ],
      "metadata": {
        "id": "e5mflB9LHlCW"
      }
    },
    {
      "cell_type": "code",
      "source": [
        "ing2_curr_score = 0\n",
        "ing2_curr_wickets = 0\n",
        "ing2_curr_overs = 0.0\n",
        "\n",
        "target = actual_score\n",
        "\n",
        "#each ball\n",
        "for i in range(len(df2)):\n",
        "\n",
        "  #2nd innings values\n",
        "  ing2_curr_score += df2.total_runs[i]\n",
        "  ing2_curr_wickets += df2.isOut[i]\n",
        "  ing2_curr_overs = df2.ball[i]\n",
        "\n",
        "  #100 iterations\n",
        "  for j in range(100):\n",
        "\n",
        "    ings2_runs_prediction = innings_2_runs(ing2_curr_score, ing2_curr_wickets, ing2_curr_overs, target)\n",
        "\n",
        "    if ings2_runs_prediction > target:\n",
        "      win_count += 1\n",
        "    elif ings2_runs_prediction == target:\n",
        "      tie_count += 1\n",
        "    else:\n",
        "      lose_count += 1\n",
        "\n",
        "  win_count_ls.append(win_count)\n",
        "  lose_count_ls.append(lose_count)\n",
        "  tie_count_ls.append(tie_count)\n",
        "\n",
        "  win_count = 0\n",
        "  lose_count = 0\n",
        "  tie_count = 0"
      ],
      "metadata": {
        "id": "u56-A2viHlU-"
      },
      "execution_count": null,
      "outputs": []
    },
    {
      "cell_type": "code",
      "source": [
        "len(win_count_ls), len(lose_count_ls), len(tie_count_ls)"
      ],
      "metadata": {
        "colab": {
          "base_uri": "https://localhost:8080/"
        },
        "id": "c5iL7HrgHled",
        "outputId": "afc61013-3f2b-4ba8-e0d1-6e327ff8beae"
      },
      "execution_count": null,
      "outputs": [
        {
          "output_type": "execute_result",
          "data": {
            "text/plain": [
              "(250, 250, 250)"
            ]
          },
          "metadata": {},
          "execution_count": 178
        }
      ]
    },
    {
      "cell_type": "code",
      "source": [
        "plt.figure(figsize = (16,6))\n",
        "x1_values = [i for i in range(len(win_count_ls))]\n",
        "y1_values = win_count_ls\n",
        "\n",
        "x2_values = [i for i in range(len(tie_count_ls))]\n",
        "y2_values = tie_count_ls\n",
        "\n",
        "x3_values = [i for i in range(len(lose_count_ls))]\n",
        "y3_values = lose_count_ls\n",
        "\n",
        "for i in range(10, len(mdf), 20):\n",
        "  if i < len(mdf) - 10:\n",
        "    plt.axvspan(i, i+10, ymin = 0, ymax = 100, alpha = 0.05, color = 'grey')\n",
        "\n",
        "plt.axhline(y= 75, ls ='--',alpha = 0.3, color = 'grey')\n",
        "plt.axhline(y= 50, ls ='--',alpha = 1, color = 'grey')\n",
        "plt.axhline(y= 25, ls ='--',alpha = 0.3, color = 'grey')\n",
        "\n",
        "\n",
        "plt.plot(x1_values, y1_values, color = 'orange', label = t2)\n",
        "plt.plot(x2_values, y2_values, color = 'grey', label = 'tie')\n",
        "plt.plot(x3_values, y3_values, color = 'blue', label = t1)\n",
        "\n",
        "\n",
        "plt.gca().set_ylim(0, 100)\n",
        "plt.yticks([0, 10,20, 30, 40, 50, 60, 70, 80, 90, 100])\n",
        "plt.title('Win percentage chart:' + t1 + 'vs' + t2)\n",
        "plt.xlabel('Balls')\n",
        "plt.ylabel('Win%')\n",
        "plt.legend()\n",
        "plt.show()"
      ],
      "metadata": {
        "colab": {
          "base_uri": "https://localhost:8080/",
          "height": 558
        },
        "id": "Roe9-7k5HllF",
        "outputId": "9c589c50-25b4-4bee-b6ba-de34afe0deba"
      },
      "execution_count": null,
      "outputs": [
        {
          "output_type": "display_data",
          "data": {
            "text/plain": [
              "<Figure size 1600x600 with 1 Axes>"
            ],
            "image/png": "[encoded data removed]"
          },
          "metadata": {}
        }
      ]
    }
  ]
}